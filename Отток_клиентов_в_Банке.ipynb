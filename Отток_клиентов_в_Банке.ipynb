{
 "cells": [
  {
   "cell_type": "markdown",
   "metadata": {
    "toc": true
   },
   "source": [
    "<h1>Содержание<span class=\"tocSkip\"></span></h1>\n",
    "<div class=\"toc\"><ul class=\"toc-item\"><li><span><a href=\"#Подготовка-данных\" data-toc-modified-id=\"Подготовка-данных-1\"><span class=\"toc-item-num\">1&nbsp;&nbsp;</span>Подготовка данных</a></span></li><li><span><a href=\"#Исследование-задачи\" data-toc-modified-id=\"Исследование-задачи-2\"><span class=\"toc-item-num\">2&nbsp;&nbsp;</span>Исследование задачи</a></span></li><li><span><a href=\"#Борьба-с-дисбалансом\" data-toc-modified-id=\"Борьба-с-дисбалансом-3\"><span class=\"toc-item-num\">3&nbsp;&nbsp;</span>Борьба с дисбалансом</a></span><ul class=\"toc-item\"><li><span><a href=\"#Upsampling\" data-toc-modified-id=\"Upsampling-3.1\"><span class=\"toc-item-num\">3.1&nbsp;&nbsp;</span>Upsampling</a></span></li><li><span><a href=\"#Downsampling\" data-toc-modified-id=\"Downsampling-3.2\"><span class=\"toc-item-num\">3.2&nbsp;&nbsp;</span>Downsampling</a></span></li></ul></li><li><span><a href=\"#Тестирование-модели\" data-toc-modified-id=\"Тестирование-модели-4\"><span class=\"toc-item-num\">4&nbsp;&nbsp;</span>Тестирование модели</a></span></li><li><span><a href=\"#Общие-выводы-+-Чек-лист-готовности-проекта\" data-toc-modified-id=\"Общие-выводы-+-Чек-лист-готовности-проекта-5\"><span class=\"toc-item-num\">5&nbsp;&nbsp;</span>Общие выводы + Чек-лист готовности проекта</a></span></li></ul></div>"
   ]
  },
  {
   "cell_type": "markdown",
   "metadata": {},
   "source": [
    "# Отток клиентов"
   ]
  },
  {
   "cell_type": "markdown",
   "metadata": {},
   "source": [
    "Из «Бета-Банка» стали уходить клиенты. Каждый месяц. Немного, но заметно. Банковские маркетологи посчитали: сохранять текущих клиентов дешевле, чем привлекать новых.\n",
    "\n",
    "Нужно спрогнозировать, уйдёт клиент из банка в ближайшее время или нет. Ниже предоставлены исторические данные о поведении клиентов и расторжении договоров с банком. \n",
    "\n",
    "Необходимо построить модель с предельно большим значением *F1*-меры. \n",
    "\n",
    "Источник данных: [https://www.kaggle.com/barelydedicated/bank-customer-churn-modeling](https://www.kaggle.com/barelydedicated/bank-customer-churn-modeling)"
   ]
  },
  {
   "cell_type": "markdown",
   "metadata": {},
   "source": [
    "## Подготовка данных"
   ]
  },
  {
   "cell_type": "markdown",
   "metadata": {},
   "source": [
    "Импорт необходимых для работы библиотек"
   ]
  },
  {
   "cell_type": "code",
   "execution_count": 1,
   "metadata": {},
   "outputs": [],
   "source": [
    "import pandas as pd\n",
    "import matplotlib.pyplot as plt\n",
    "\n",
    "from sklearn.metrics import roc_curve, accuracy_score, precision_score, recall_score, f1_score, precision_recall_curve, roc_auc_score\n",
    "from sklearn.tree import DecisionTreeClassifier\n",
    "from sklearn.ensemble import RandomForestClassifier\n",
    "from sklearn.linear_model import LogisticRegression\n",
    "from sklearn.model_selection import train_test_split \n",
    "from sklearn.preprocessing import StandardScaler\n",
    "from sklearn.utils import shuffle\n",
    "import warnings\n",
    "import sklearn.exceptions\n",
    "warnings.filterwarnings(\"ignore\")"
   ]
  },
  {
   "cell_type": "code",
   "execution_count": 2,
   "metadata": {},
   "outputs": [],
   "source": [
    "data = pd.read_csv('C:/Users/Nshan/Desktop/Отток клиентов из банка/Churn.csv')"
   ]
  },
  {
   "cell_type": "code",
   "execution_count": 3,
   "metadata": {},
   "outputs": [
    {
     "data": {
      "text/html": [
       "<div>\n",
       "<style scoped>\n",
       "    .dataframe tbody tr th:only-of-type {\n",
       "        vertical-align: middle;\n",
       "    }\n",
       "\n",
       "    .dataframe tbody tr th {\n",
       "        vertical-align: top;\n",
       "    }\n",
       "\n",
       "    .dataframe thead th {\n",
       "        text-align: right;\n",
       "    }\n",
       "</style>\n",
       "<table border=\"1\" class=\"dataframe\">\n",
       "  <thead>\n",
       "    <tr style=\"text-align: right;\">\n",
       "      <th></th>\n",
       "      <th>RowNumber</th>\n",
       "      <th>CustomerId</th>\n",
       "      <th>Surname</th>\n",
       "      <th>CreditScore</th>\n",
       "      <th>Geography</th>\n",
       "      <th>Gender</th>\n",
       "      <th>Age</th>\n",
       "      <th>Tenure</th>\n",
       "      <th>Balance</th>\n",
       "      <th>NumOfProducts</th>\n",
       "      <th>HasCrCard</th>\n",
       "      <th>IsActiveMember</th>\n",
       "      <th>EstimatedSalary</th>\n",
       "      <th>Exited</th>\n",
       "    </tr>\n",
       "  </thead>\n",
       "  <tbody>\n",
       "    <tr>\n",
       "      <th>0</th>\n",
       "      <td>1</td>\n",
       "      <td>15634602</td>\n",
       "      <td>Hargrave</td>\n",
       "      <td>619</td>\n",
       "      <td>France</td>\n",
       "      <td>Female</td>\n",
       "      <td>42</td>\n",
       "      <td>2.0</td>\n",
       "      <td>0.00</td>\n",
       "      <td>1</td>\n",
       "      <td>1</td>\n",
       "      <td>1</td>\n",
       "      <td>101348.88</td>\n",
       "      <td>1</td>\n",
       "    </tr>\n",
       "    <tr>\n",
       "      <th>1</th>\n",
       "      <td>2</td>\n",
       "      <td>15647311</td>\n",
       "      <td>Hill</td>\n",
       "      <td>608</td>\n",
       "      <td>Spain</td>\n",
       "      <td>Female</td>\n",
       "      <td>41</td>\n",
       "      <td>1.0</td>\n",
       "      <td>83807.86</td>\n",
       "      <td>1</td>\n",
       "      <td>0</td>\n",
       "      <td>1</td>\n",
       "      <td>112542.58</td>\n",
       "      <td>0</td>\n",
       "    </tr>\n",
       "    <tr>\n",
       "      <th>2</th>\n",
       "      <td>3</td>\n",
       "      <td>15619304</td>\n",
       "      <td>Onio</td>\n",
       "      <td>502</td>\n",
       "      <td>France</td>\n",
       "      <td>Female</td>\n",
       "      <td>42</td>\n",
       "      <td>8.0</td>\n",
       "      <td>159660.80</td>\n",
       "      <td>3</td>\n",
       "      <td>1</td>\n",
       "      <td>0</td>\n",
       "      <td>113931.57</td>\n",
       "      <td>1</td>\n",
       "    </tr>\n",
       "    <tr>\n",
       "      <th>3</th>\n",
       "      <td>4</td>\n",
       "      <td>15701354</td>\n",
       "      <td>Boni</td>\n",
       "      <td>699</td>\n",
       "      <td>France</td>\n",
       "      <td>Female</td>\n",
       "      <td>39</td>\n",
       "      <td>1.0</td>\n",
       "      <td>0.00</td>\n",
       "      <td>2</td>\n",
       "      <td>0</td>\n",
       "      <td>0</td>\n",
       "      <td>93826.63</td>\n",
       "      <td>0</td>\n",
       "    </tr>\n",
       "    <tr>\n",
       "      <th>4</th>\n",
       "      <td>5</td>\n",
       "      <td>15737888</td>\n",
       "      <td>Mitchell</td>\n",
       "      <td>850</td>\n",
       "      <td>Spain</td>\n",
       "      <td>Female</td>\n",
       "      <td>43</td>\n",
       "      <td>2.0</td>\n",
       "      <td>125510.82</td>\n",
       "      <td>1</td>\n",
       "      <td>1</td>\n",
       "      <td>1</td>\n",
       "      <td>79084.10</td>\n",
       "      <td>0</td>\n",
       "    </tr>\n",
       "    <tr>\n",
       "      <th>5</th>\n",
       "      <td>6</td>\n",
       "      <td>15574012</td>\n",
       "      <td>Chu</td>\n",
       "      <td>645</td>\n",
       "      <td>Spain</td>\n",
       "      <td>Male</td>\n",
       "      <td>44</td>\n",
       "      <td>8.0</td>\n",
       "      <td>113755.78</td>\n",
       "      <td>2</td>\n",
       "      <td>1</td>\n",
       "      <td>0</td>\n",
       "      <td>149756.71</td>\n",
       "      <td>1</td>\n",
       "    </tr>\n",
       "    <tr>\n",
       "      <th>6</th>\n",
       "      <td>7</td>\n",
       "      <td>15592531</td>\n",
       "      <td>Bartlett</td>\n",
       "      <td>822</td>\n",
       "      <td>France</td>\n",
       "      <td>Male</td>\n",
       "      <td>50</td>\n",
       "      <td>7.0</td>\n",
       "      <td>0.00</td>\n",
       "      <td>2</td>\n",
       "      <td>1</td>\n",
       "      <td>1</td>\n",
       "      <td>10062.80</td>\n",
       "      <td>0</td>\n",
       "    </tr>\n",
       "    <tr>\n",
       "      <th>7</th>\n",
       "      <td>8</td>\n",
       "      <td>15656148</td>\n",
       "      <td>Obinna</td>\n",
       "      <td>376</td>\n",
       "      <td>Germany</td>\n",
       "      <td>Female</td>\n",
       "      <td>29</td>\n",
       "      <td>4.0</td>\n",
       "      <td>115046.74</td>\n",
       "      <td>4</td>\n",
       "      <td>1</td>\n",
       "      <td>0</td>\n",
       "      <td>119346.88</td>\n",
       "      <td>1</td>\n",
       "    </tr>\n",
       "    <tr>\n",
       "      <th>8</th>\n",
       "      <td>9</td>\n",
       "      <td>15792365</td>\n",
       "      <td>He</td>\n",
       "      <td>501</td>\n",
       "      <td>France</td>\n",
       "      <td>Male</td>\n",
       "      <td>44</td>\n",
       "      <td>4.0</td>\n",
       "      <td>142051.07</td>\n",
       "      <td>2</td>\n",
       "      <td>0</td>\n",
       "      <td>1</td>\n",
       "      <td>74940.50</td>\n",
       "      <td>0</td>\n",
       "    </tr>\n",
       "    <tr>\n",
       "      <th>9</th>\n",
       "      <td>10</td>\n",
       "      <td>15592389</td>\n",
       "      <td>H?</td>\n",
       "      <td>684</td>\n",
       "      <td>France</td>\n",
       "      <td>Male</td>\n",
       "      <td>27</td>\n",
       "      <td>2.0</td>\n",
       "      <td>134603.88</td>\n",
       "      <td>1</td>\n",
       "      <td>1</td>\n",
       "      <td>1</td>\n",
       "      <td>71725.73</td>\n",
       "      <td>0</td>\n",
       "    </tr>\n",
       "  </tbody>\n",
       "</table>\n",
       "</div>"
      ],
      "text/plain": [
       "   RowNumber  CustomerId   Surname  CreditScore Geography  Gender  Age  \\\n",
       "0          1    15634602  Hargrave          619    France  Female   42   \n",
       "1          2    15647311      Hill          608     Spain  Female   41   \n",
       "2          3    15619304      Onio          502    France  Female   42   \n",
       "3          4    15701354      Boni          699    France  Female   39   \n",
       "4          5    15737888  Mitchell          850     Spain  Female   43   \n",
       "5          6    15574012       Chu          645     Spain    Male   44   \n",
       "6          7    15592531  Bartlett          822    France    Male   50   \n",
       "7          8    15656148    Obinna          376   Germany  Female   29   \n",
       "8          9    15792365        He          501    France    Male   44   \n",
       "9         10    15592389        H?          684    France    Male   27   \n",
       "\n",
       "   Tenure    Balance  NumOfProducts  HasCrCard  IsActiveMember  \\\n",
       "0     2.0       0.00              1          1               1   \n",
       "1     1.0   83807.86              1          0               1   \n",
       "2     8.0  159660.80              3          1               0   \n",
       "3     1.0       0.00              2          0               0   \n",
       "4     2.0  125510.82              1          1               1   \n",
       "5     8.0  113755.78              2          1               0   \n",
       "6     7.0       0.00              2          1               1   \n",
       "7     4.0  115046.74              4          1               0   \n",
       "8     4.0  142051.07              2          0               1   \n",
       "9     2.0  134603.88              1          1               1   \n",
       "\n",
       "   EstimatedSalary  Exited  \n",
       "0        101348.88       1  \n",
       "1        112542.58       0  \n",
       "2        113931.57       1  \n",
       "3         93826.63       0  \n",
       "4         79084.10       0  \n",
       "5        149756.71       1  \n",
       "6         10062.80       0  \n",
       "7        119346.88       1  \n",
       "8         74940.50       0  \n",
       "9         71725.73       0  "
      ]
     },
     "execution_count": 3,
     "metadata": {},
     "output_type": "execute_result"
    }
   ],
   "source": [
    "data.head(10)"
   ]
  },
  {
   "cell_type": "code",
   "execution_count": 4,
   "metadata": {},
   "outputs": [
    {
     "name": "stdout",
     "output_type": "stream",
     "text": [
      "<class 'pandas.core.frame.DataFrame'>\n",
      "RangeIndex: 10000 entries, 0 to 9999\n",
      "Data columns (total 14 columns):\n",
      " #   Column           Non-Null Count  Dtype  \n",
      "---  ------           --------------  -----  \n",
      " 0   RowNumber        10000 non-null  int64  \n",
      " 1   CustomerId       10000 non-null  int64  \n",
      " 2   Surname          10000 non-null  object \n",
      " 3   CreditScore      10000 non-null  int64  \n",
      " 4   Geography        10000 non-null  object \n",
      " 5   Gender           10000 non-null  object \n",
      " 6   Age              10000 non-null  int64  \n",
      " 7   Tenure           9091 non-null   float64\n",
      " 8   Balance          10000 non-null  float64\n",
      " 9   NumOfProducts    10000 non-null  int64  \n",
      " 10  HasCrCard        10000 non-null  int64  \n",
      " 11  IsActiveMember   10000 non-null  int64  \n",
      " 12  EstimatedSalary  10000 non-null  float64\n",
      " 13  Exited           10000 non-null  int64  \n",
      "dtypes: float64(3), int64(8), object(3)\n",
      "memory usage: 1.1+ MB\n"
     ]
    }
   ],
   "source": [
    "data.info()"
   ]
  },
  {
   "cell_type": "code",
   "execution_count": 5,
   "metadata": {},
   "outputs": [
    {
     "data": {
      "text/plain": [
       "(10000, 14)"
      ]
     },
     "execution_count": 5,
     "metadata": {},
     "output_type": "execute_result"
    }
   ],
   "source": [
    "data.shape"
   ]
  },
  {
   "cell_type": "code",
   "execution_count": 6,
   "metadata": {},
   "outputs": [
    {
     "data": {
      "text/plain": [
       "Index(['rownumber', 'customerid', 'surname', 'creditscore', 'geography',\n",
       "       'gender', 'age', 'tenure', 'balance', 'numofproducts', 'hascrcard',\n",
       "       'isactivemember', 'estimatedsalary', 'exited'],\n",
       "      dtype='object')"
      ]
     },
     "execution_count": 6,
     "metadata": {},
     "output_type": "execute_result"
    }
   ],
   "source": [
    "data.columns.str.lower()"
   ]
  },
  {
   "cell_type": "code",
   "execution_count": 7,
   "metadata": {},
   "outputs": [],
   "source": [
    "data.columns = ['row_number', 'customer_id', 'surname', 'credit_score', 'geography',\n",
    "       'gender', 'age', 'tenure', 'balance', 'num_of_products', 'has_cr_card',\n",
    "       'is_active_member', 'estimated_salary', 'exited']"
   ]
  },
  {
   "cell_type": "markdown",
   "metadata": {},
   "source": [
    "**Проверка на пропуски и дубликаты**"
   ]
  },
  {
   "cell_type": "code",
   "execution_count": 8,
   "metadata": {
    "scrolled": false
   },
   "outputs": [
    {
     "data": {
      "text/plain": [
       "row_number            0\n",
       "customer_id           0\n",
       "surname               0\n",
       "credit_score          0\n",
       "geography             0\n",
       "gender                0\n",
       "age                   0\n",
       "tenure              909\n",
       "balance               0\n",
       "num_of_products       0\n",
       "has_cr_card           0\n",
       "is_active_member      0\n",
       "estimated_salary      0\n",
       "exited                0\n",
       "dtype: int64"
      ]
     },
     "execution_count": 8,
     "metadata": {},
     "output_type": "execute_result"
    }
   ],
   "source": [
    "data.isna().sum()"
   ]
  },
  {
   "cell_type": "code",
   "execution_count": 9,
   "metadata": {
    "scrolled": true
   },
   "outputs": [
    {
     "data": {
      "text/plain": [
       "1.0     952\n",
       "2.0     950\n",
       "8.0     933\n",
       "3.0     928\n",
       "5.0     927\n",
       "7.0     925\n",
       "4.0     885\n",
       "9.0     882\n",
       "6.0     881\n",
       "10.0    446\n",
       "0.0     382\n",
       "Name: tenure, dtype: int64"
      ]
     },
     "execution_count": 9,
     "metadata": {},
     "output_type": "execute_result"
    }
   ],
   "source": [
    "data['tenure'].value_counts()"
   ]
  },
  {
   "cell_type": "code",
   "execution_count": 10,
   "metadata": {
    "scrolled": true
   },
   "outputs": [
    {
     "data": {
      "text/html": [
       "<div>\n",
       "<style scoped>\n",
       "    .dataframe tbody tr th:only-of-type {\n",
       "        vertical-align: middle;\n",
       "    }\n",
       "\n",
       "    .dataframe tbody tr th {\n",
       "        vertical-align: top;\n",
       "    }\n",
       "\n",
       "    .dataframe thead th {\n",
       "        text-align: right;\n",
       "    }\n",
       "</style>\n",
       "<table border=\"1\" class=\"dataframe\">\n",
       "  <thead>\n",
       "    <tr style=\"text-align: right;\">\n",
       "      <th></th>\n",
       "      <th>row_number</th>\n",
       "      <th>customer_id</th>\n",
       "      <th>surname</th>\n",
       "      <th>credit_score</th>\n",
       "      <th>geography</th>\n",
       "      <th>gender</th>\n",
       "      <th>age</th>\n",
       "      <th>tenure</th>\n",
       "      <th>balance</th>\n",
       "      <th>num_of_products</th>\n",
       "      <th>has_cr_card</th>\n",
       "      <th>is_active_member</th>\n",
       "      <th>estimated_salary</th>\n",
       "      <th>exited</th>\n",
       "    </tr>\n",
       "  </thead>\n",
       "  <tbody>\n",
       "    <tr>\n",
       "      <th>30</th>\n",
       "      <td>31</td>\n",
       "      <td>15589475</td>\n",
       "      <td>Azikiwe</td>\n",
       "      <td>591</td>\n",
       "      <td>Spain</td>\n",
       "      <td>Female</td>\n",
       "      <td>39</td>\n",
       "      <td>NaN</td>\n",
       "      <td>0.00</td>\n",
       "      <td>3</td>\n",
       "      <td>1</td>\n",
       "      <td>0</td>\n",
       "      <td>140469.38</td>\n",
       "      <td>1</td>\n",
       "    </tr>\n",
       "    <tr>\n",
       "      <th>48</th>\n",
       "      <td>49</td>\n",
       "      <td>15766205</td>\n",
       "      <td>Yin</td>\n",
       "      <td>550</td>\n",
       "      <td>Germany</td>\n",
       "      <td>Male</td>\n",
       "      <td>38</td>\n",
       "      <td>NaN</td>\n",
       "      <td>103391.38</td>\n",
       "      <td>1</td>\n",
       "      <td>0</td>\n",
       "      <td>1</td>\n",
       "      <td>90878.13</td>\n",
       "      <td>0</td>\n",
       "    </tr>\n",
       "    <tr>\n",
       "      <th>51</th>\n",
       "      <td>52</td>\n",
       "      <td>15768193</td>\n",
       "      <td>Trevisani</td>\n",
       "      <td>585</td>\n",
       "      <td>Germany</td>\n",
       "      <td>Male</td>\n",
       "      <td>36</td>\n",
       "      <td>NaN</td>\n",
       "      <td>146050.97</td>\n",
       "      <td>2</td>\n",
       "      <td>0</td>\n",
       "      <td>0</td>\n",
       "      <td>86424.57</td>\n",
       "      <td>0</td>\n",
       "    </tr>\n",
       "    <tr>\n",
       "      <th>53</th>\n",
       "      <td>54</td>\n",
       "      <td>15702298</td>\n",
       "      <td>Parkhill</td>\n",
       "      <td>655</td>\n",
       "      <td>Germany</td>\n",
       "      <td>Male</td>\n",
       "      <td>41</td>\n",
       "      <td>NaN</td>\n",
       "      <td>125561.97</td>\n",
       "      <td>1</td>\n",
       "      <td>0</td>\n",
       "      <td>0</td>\n",
       "      <td>164040.94</td>\n",
       "      <td>1</td>\n",
       "    </tr>\n",
       "    <tr>\n",
       "      <th>60</th>\n",
       "      <td>61</td>\n",
       "      <td>15651280</td>\n",
       "      <td>Hunter</td>\n",
       "      <td>742</td>\n",
       "      <td>Germany</td>\n",
       "      <td>Male</td>\n",
       "      <td>35</td>\n",
       "      <td>NaN</td>\n",
       "      <td>136857.00</td>\n",
       "      <td>1</td>\n",
       "      <td>0</td>\n",
       "      <td>0</td>\n",
       "      <td>84509.57</td>\n",
       "      <td>0</td>\n",
       "    </tr>\n",
       "    <tr>\n",
       "      <th>82</th>\n",
       "      <td>83</td>\n",
       "      <td>15641732</td>\n",
       "      <td>Mills</td>\n",
       "      <td>543</td>\n",
       "      <td>France</td>\n",
       "      <td>Female</td>\n",
       "      <td>36</td>\n",
       "      <td>NaN</td>\n",
       "      <td>0.00</td>\n",
       "      <td>2</td>\n",
       "      <td>0</td>\n",
       "      <td>0</td>\n",
       "      <td>26019.59</td>\n",
       "      <td>0</td>\n",
       "    </tr>\n",
       "    <tr>\n",
       "      <th>85</th>\n",
       "      <td>86</td>\n",
       "      <td>15805254</td>\n",
       "      <td>Ndukaku</td>\n",
       "      <td>652</td>\n",
       "      <td>Spain</td>\n",
       "      <td>Female</td>\n",
       "      <td>75</td>\n",
       "      <td>NaN</td>\n",
       "      <td>0.00</td>\n",
       "      <td>2</td>\n",
       "      <td>1</td>\n",
       "      <td>1</td>\n",
       "      <td>114675.75</td>\n",
       "      <td>0</td>\n",
       "    </tr>\n",
       "    <tr>\n",
       "      <th>94</th>\n",
       "      <td>95</td>\n",
       "      <td>15676966</td>\n",
       "      <td>Capon</td>\n",
       "      <td>730</td>\n",
       "      <td>Spain</td>\n",
       "      <td>Male</td>\n",
       "      <td>42</td>\n",
       "      <td>NaN</td>\n",
       "      <td>0.00</td>\n",
       "      <td>2</td>\n",
       "      <td>0</td>\n",
       "      <td>1</td>\n",
       "      <td>85982.47</td>\n",
       "      <td>0</td>\n",
       "    </tr>\n",
       "    <tr>\n",
       "      <th>99</th>\n",
       "      <td>100</td>\n",
       "      <td>15633059</td>\n",
       "      <td>Fanucci</td>\n",
       "      <td>413</td>\n",
       "      <td>France</td>\n",
       "      <td>Male</td>\n",
       "      <td>34</td>\n",
       "      <td>NaN</td>\n",
       "      <td>0.00</td>\n",
       "      <td>2</td>\n",
       "      <td>0</td>\n",
       "      <td>0</td>\n",
       "      <td>6534.18</td>\n",
       "      <td>0</td>\n",
       "    </tr>\n",
       "    <tr>\n",
       "      <th>111</th>\n",
       "      <td>112</td>\n",
       "      <td>15665790</td>\n",
       "      <td>Rowntree</td>\n",
       "      <td>538</td>\n",
       "      <td>Germany</td>\n",
       "      <td>Male</td>\n",
       "      <td>39</td>\n",
       "      <td>NaN</td>\n",
       "      <td>108055.10</td>\n",
       "      <td>2</td>\n",
       "      <td>1</td>\n",
       "      <td>0</td>\n",
       "      <td>27231.26</td>\n",
       "      <td>0</td>\n",
       "    </tr>\n",
       "    <tr>\n",
       "      <th>123</th>\n",
       "      <td>124</td>\n",
       "      <td>15760085</td>\n",
       "      <td>Calabresi</td>\n",
       "      <td>684</td>\n",
       "      <td>Germany</td>\n",
       "      <td>Female</td>\n",
       "      <td>48</td>\n",
       "      <td>NaN</td>\n",
       "      <td>126384.42</td>\n",
       "      <td>1</td>\n",
       "      <td>1</td>\n",
       "      <td>1</td>\n",
       "      <td>198129.36</td>\n",
       "      <td>0</td>\n",
       "    </tr>\n",
       "    <tr>\n",
       "      <th>125</th>\n",
       "      <td>126</td>\n",
       "      <td>15627360</td>\n",
       "      <td>Fuller</td>\n",
       "      <td>432</td>\n",
       "      <td>France</td>\n",
       "      <td>Male</td>\n",
       "      <td>42</td>\n",
       "      <td>NaN</td>\n",
       "      <td>152603.45</td>\n",
       "      <td>1</td>\n",
       "      <td>1</td>\n",
       "      <td>0</td>\n",
       "      <td>110265.24</td>\n",
       "      <td>1</td>\n",
       "    </tr>\n",
       "    <tr>\n",
       "      <th>146</th>\n",
       "      <td>147</td>\n",
       "      <td>15705707</td>\n",
       "      <td>Bennelong</td>\n",
       "      <td>635</td>\n",
       "      <td>Spain</td>\n",
       "      <td>Female</td>\n",
       "      <td>29</td>\n",
       "      <td>NaN</td>\n",
       "      <td>138296.94</td>\n",
       "      <td>2</td>\n",
       "      <td>1</td>\n",
       "      <td>0</td>\n",
       "      <td>141075.51</td>\n",
       "      <td>0</td>\n",
       "    </tr>\n",
       "    <tr>\n",
       "      <th>162</th>\n",
       "      <td>163</td>\n",
       "      <td>15630910</td>\n",
       "      <td>Treacy</td>\n",
       "      <td>800</td>\n",
       "      <td>France</td>\n",
       "      <td>Female</td>\n",
       "      <td>49</td>\n",
       "      <td>NaN</td>\n",
       "      <td>108007.36</td>\n",
       "      <td>1</td>\n",
       "      <td>0</td>\n",
       "      <td>0</td>\n",
       "      <td>47125.11</td>\n",
       "      <td>0</td>\n",
       "    </tr>\n",
       "    <tr>\n",
       "      <th>173</th>\n",
       "      <td>174</td>\n",
       "      <td>15586310</td>\n",
       "      <td>Ting</td>\n",
       "      <td>578</td>\n",
       "      <td>France</td>\n",
       "      <td>Male</td>\n",
       "      <td>30</td>\n",
       "      <td>NaN</td>\n",
       "      <td>169462.09</td>\n",
       "      <td>1</td>\n",
       "      <td>1</td>\n",
       "      <td>0</td>\n",
       "      <td>112187.11</td>\n",
       "      <td>0</td>\n",
       "    </tr>\n",
       "    <tr>\n",
       "      <th>180</th>\n",
       "      <td>181</td>\n",
       "      <td>15716334</td>\n",
       "      <td>Rozier</td>\n",
       "      <td>850</td>\n",
       "      <td>Spain</td>\n",
       "      <td>Female</td>\n",
       "      <td>45</td>\n",
       "      <td>NaN</td>\n",
       "      <td>122311.21</td>\n",
       "      <td>1</td>\n",
       "      <td>1</td>\n",
       "      <td>1</td>\n",
       "      <td>19482.50</td>\n",
       "      <td>0</td>\n",
       "    </tr>\n",
       "    <tr>\n",
       "      <th>217</th>\n",
       "      <td>218</td>\n",
       "      <td>15786308</td>\n",
       "      <td>Millar</td>\n",
       "      <td>730</td>\n",
       "      <td>Spain</td>\n",
       "      <td>Female</td>\n",
       "      <td>33</td>\n",
       "      <td>NaN</td>\n",
       "      <td>0.00</td>\n",
       "      <td>2</td>\n",
       "      <td>0</td>\n",
       "      <td>0</td>\n",
       "      <td>176576.62</td>\n",
       "      <td>0</td>\n",
       "    </tr>\n",
       "    <tr>\n",
       "      <th>222</th>\n",
       "      <td>223</td>\n",
       "      <td>15727829</td>\n",
       "      <td>McIntyre</td>\n",
       "      <td>567</td>\n",
       "      <td>France</td>\n",
       "      <td>Male</td>\n",
       "      <td>42</td>\n",
       "      <td>NaN</td>\n",
       "      <td>0.00</td>\n",
       "      <td>2</td>\n",
       "      <td>1</td>\n",
       "      <td>1</td>\n",
       "      <td>167984.61</td>\n",
       "      <td>0</td>\n",
       "    </tr>\n",
       "    <tr>\n",
       "      <th>225</th>\n",
       "      <td>226</td>\n",
       "      <td>15699029</td>\n",
       "      <td>Bagley</td>\n",
       "      <td>670</td>\n",
       "      <td>France</td>\n",
       "      <td>Male</td>\n",
       "      <td>37</td>\n",
       "      <td>NaN</td>\n",
       "      <td>170557.91</td>\n",
       "      <td>2</td>\n",
       "      <td>1</td>\n",
       "      <td>0</td>\n",
       "      <td>198252.88</td>\n",
       "      <td>0</td>\n",
       "    </tr>\n",
       "    <tr>\n",
       "      <th>237</th>\n",
       "      <td>238</td>\n",
       "      <td>15764866</td>\n",
       "      <td>Synnot</td>\n",
       "      <td>539</td>\n",
       "      <td>Germany</td>\n",
       "      <td>Female</td>\n",
       "      <td>43</td>\n",
       "      <td>NaN</td>\n",
       "      <td>116220.50</td>\n",
       "      <td>3</td>\n",
       "      <td>1</td>\n",
       "      <td>0</td>\n",
       "      <td>55803.96</td>\n",
       "      <td>1</td>\n",
       "    </tr>\n",
       "  </tbody>\n",
       "</table>\n",
       "</div>"
      ],
      "text/plain": [
       "     row_number  customer_id    surname  credit_score geography  gender  age  \\\n",
       "30           31     15589475    Azikiwe           591     Spain  Female   39   \n",
       "48           49     15766205        Yin           550   Germany    Male   38   \n",
       "51           52     15768193  Trevisani           585   Germany    Male   36   \n",
       "53           54     15702298   Parkhill           655   Germany    Male   41   \n",
       "60           61     15651280     Hunter           742   Germany    Male   35   \n",
       "82           83     15641732      Mills           543    France  Female   36   \n",
       "85           86     15805254    Ndukaku           652     Spain  Female   75   \n",
       "94           95     15676966      Capon           730     Spain    Male   42   \n",
       "99          100     15633059    Fanucci           413    France    Male   34   \n",
       "111         112     15665790   Rowntree           538   Germany    Male   39   \n",
       "123         124     15760085  Calabresi           684   Germany  Female   48   \n",
       "125         126     15627360     Fuller           432    France    Male   42   \n",
       "146         147     15705707  Bennelong           635     Spain  Female   29   \n",
       "162         163     15630910     Treacy           800    France  Female   49   \n",
       "173         174     15586310       Ting           578    France    Male   30   \n",
       "180         181     15716334     Rozier           850     Spain  Female   45   \n",
       "217         218     15786308     Millar           730     Spain  Female   33   \n",
       "222         223     15727829   McIntyre           567    France    Male   42   \n",
       "225         226     15699029     Bagley           670    France    Male   37   \n",
       "237         238     15764866     Synnot           539   Germany  Female   43   \n",
       "\n",
       "     tenure    balance  num_of_products  has_cr_card  is_active_member  \\\n",
       "30      NaN       0.00                3            1                 0   \n",
       "48      NaN  103391.38                1            0                 1   \n",
       "51      NaN  146050.97                2            0                 0   \n",
       "53      NaN  125561.97                1            0                 0   \n",
       "60      NaN  136857.00                1            0                 0   \n",
       "82      NaN       0.00                2            0                 0   \n",
       "85      NaN       0.00                2            1                 1   \n",
       "94      NaN       0.00                2            0                 1   \n",
       "99      NaN       0.00                2            0                 0   \n",
       "111     NaN  108055.10                2            1                 0   \n",
       "123     NaN  126384.42                1            1                 1   \n",
       "125     NaN  152603.45                1            1                 0   \n",
       "146     NaN  138296.94                2            1                 0   \n",
       "162     NaN  108007.36                1            0                 0   \n",
       "173     NaN  169462.09                1            1                 0   \n",
       "180     NaN  122311.21                1            1                 1   \n",
       "217     NaN       0.00                2            0                 0   \n",
       "222     NaN       0.00                2            1                 1   \n",
       "225     NaN  170557.91                2            1                 0   \n",
       "237     NaN  116220.50                3            1                 0   \n",
       "\n",
       "     estimated_salary  exited  \n",
       "30          140469.38       1  \n",
       "48           90878.13       0  \n",
       "51           86424.57       0  \n",
       "53          164040.94       1  \n",
       "60           84509.57       0  \n",
       "82           26019.59       0  \n",
       "85          114675.75       0  \n",
       "94           85982.47       0  \n",
       "99            6534.18       0  \n",
       "111          27231.26       0  \n",
       "123         198129.36       0  \n",
       "125         110265.24       1  \n",
       "146         141075.51       0  \n",
       "162          47125.11       0  \n",
       "173         112187.11       0  \n",
       "180          19482.50       0  \n",
       "217         176576.62       0  \n",
       "222         167984.61       0  \n",
       "225         198252.88       0  \n",
       "237          55803.96       1  "
      ]
     },
     "execution_count": 10,
     "metadata": {},
     "output_type": "execute_result"
    }
   ],
   "source": [
    "data[data['tenure'].isna()].head(20)"
   ]
  },
  {
   "cell_type": "markdown",
   "metadata": {},
   "source": [
    "Поскольку среди многих пропусков в столбце со сроком пользования банковскими услугами также присутствуют пропуски в столбце с балансом, можно предположить, что клиенты новые, но система их пока не успела отобразить это в данных. Поскольку данное суждение не является абсолютно точным, то для повышения качества модели заменим пропуски на медианное значение."
   ]
  },
  {
   "cell_type": "code",
   "execution_count": 11,
   "metadata": {},
   "outputs": [],
   "source": [
    "data['tenure'] = data['tenure'].fillna(data['tenure'].median())"
   ]
  },
  {
   "cell_type": "code",
   "execution_count": 12,
   "metadata": {
    "scrolled": true
   },
   "outputs": [
    {
     "data": {
      "text/plain": [
       "row_number          0\n",
       "customer_id         0\n",
       "surname             0\n",
       "credit_score        0\n",
       "geography           0\n",
       "gender              0\n",
       "age                 0\n",
       "tenure              0\n",
       "balance             0\n",
       "num_of_products     0\n",
       "has_cr_card         0\n",
       "is_active_member    0\n",
       "estimated_salary    0\n",
       "exited              0\n",
       "dtype: int64"
      ]
     },
     "execution_count": 12,
     "metadata": {},
     "output_type": "execute_result"
    }
   ],
   "source": [
    "data.isna().sum()"
   ]
  },
  {
   "cell_type": "code",
   "execution_count": 13,
   "metadata": {},
   "outputs": [
    {
     "name": "stdout",
     "output_type": "stream",
     "text": [
      "<class 'pandas.core.frame.DataFrame'>\n",
      "RangeIndex: 10000 entries, 0 to 9999\n",
      "Data columns (total 14 columns):\n",
      " #   Column            Non-Null Count  Dtype  \n",
      "---  ------            --------------  -----  \n",
      " 0   row_number        10000 non-null  int64  \n",
      " 1   customer_id       10000 non-null  int64  \n",
      " 2   surname           10000 non-null  object \n",
      " 3   credit_score      10000 non-null  int64  \n",
      " 4   geography         10000 non-null  object \n",
      " 5   gender            10000 non-null  object \n",
      " 6   age               10000 non-null  int64  \n",
      " 7   tenure            10000 non-null  float64\n",
      " 8   balance           10000 non-null  float64\n",
      " 9   num_of_products   10000 non-null  int64  \n",
      " 10  has_cr_card       10000 non-null  int64  \n",
      " 11  is_active_member  10000 non-null  int64  \n",
      " 12  estimated_salary  10000 non-null  float64\n",
      " 13  exited            10000 non-null  int64  \n",
      "dtypes: float64(3), int64(8), object(3)\n",
      "memory usage: 1.1+ MB\n"
     ]
    }
   ],
   "source": [
    "data.info()"
   ]
  },
  {
   "cell_type": "code",
   "execution_count": 14,
   "metadata": {},
   "outputs": [],
   "source": [
    "data['surname'] = data['surname'].str.lower()\n",
    "data['geography'] = data['geography'].str.lower()\n",
    "data['gender'] = data['gender'].str.lower()"
   ]
  },
  {
   "cell_type": "code",
   "execution_count": 15,
   "metadata": {},
   "outputs": [
    {
     "data": {
      "text/plain": [
       "0"
      ]
     },
     "execution_count": 15,
     "metadata": {},
     "output_type": "execute_result"
    }
   ],
   "source": [
    "data.duplicated().sum()"
   ]
  },
  {
   "cell_type": "markdown",
   "metadata": {},
   "source": [
    "Для поиска дубликатов все значения таблицы были приведены к нижнему регистру. Дубликатов не обнаружен. "
   ]
  },
  {
   "cell_type": "code",
   "execution_count": 16,
   "metadata": {},
   "outputs": [
    {
     "data": {
      "text/plain": [
       "row_number          2037\n",
       "customer_id         2037\n",
       "surname             2037\n",
       "credit_score        2037\n",
       "geography           2037\n",
       "gender              2037\n",
       "age                 2037\n",
       "tenure              2037\n",
       "balance             2037\n",
       "num_of_products     2037\n",
       "has_cr_card         2037\n",
       "is_active_member    2037\n",
       "estimated_salary    2037\n",
       "exited              2037\n",
       "dtype: int64"
      ]
     },
     "execution_count": 16,
     "metadata": {},
     "output_type": "execute_result"
    }
   ],
   "source": [
    "data.query('exited == 1').count()"
   ]
  },
  {
   "cell_type": "markdown",
   "metadata": {},
   "source": [
    "Для дальнейшего построения моделей необходимо преобразовать категориальные столбцы в числовые. Поскольку разные значения одного столбца имеют одинаковое значение, то для преобразования признаков воспользуемся техникой ohe."
   ]
  },
  {
   "cell_type": "code",
   "execution_count": 17,
   "metadata": {
    "scrolled": true
   },
   "outputs": [
    {
     "data": {
      "text/html": [
       "<div>\n",
       "<style scoped>\n",
       "    .dataframe tbody tr th:only-of-type {\n",
       "        vertical-align: middle;\n",
       "    }\n",
       "\n",
       "    .dataframe tbody tr th {\n",
       "        vertical-align: top;\n",
       "    }\n",
       "\n",
       "    .dataframe thead th {\n",
       "        text-align: right;\n",
       "    }\n",
       "</style>\n",
       "<table border=\"1\" class=\"dataframe\">\n",
       "  <thead>\n",
       "    <tr style=\"text-align: right;\">\n",
       "      <th></th>\n",
       "      <th>row_number</th>\n",
       "      <th>customer_id</th>\n",
       "      <th>surname</th>\n",
       "      <th>credit_score</th>\n",
       "      <th>geography</th>\n",
       "      <th>gender</th>\n",
       "      <th>age</th>\n",
       "      <th>tenure</th>\n",
       "      <th>balance</th>\n",
       "      <th>num_of_products</th>\n",
       "      <th>has_cr_card</th>\n",
       "      <th>is_active_member</th>\n",
       "      <th>estimated_salary</th>\n",
       "      <th>exited</th>\n",
       "    </tr>\n",
       "  </thead>\n",
       "  <tbody>\n",
       "    <tr>\n",
       "      <th>0</th>\n",
       "      <td>1</td>\n",
       "      <td>15634602</td>\n",
       "      <td>hargrave</td>\n",
       "      <td>619</td>\n",
       "      <td>france</td>\n",
       "      <td>female</td>\n",
       "      <td>42</td>\n",
       "      <td>2.0</td>\n",
       "      <td>0.00</td>\n",
       "      <td>1</td>\n",
       "      <td>1</td>\n",
       "      <td>1</td>\n",
       "      <td>101348.88</td>\n",
       "      <td>1</td>\n",
       "    </tr>\n",
       "    <tr>\n",
       "      <th>1</th>\n",
       "      <td>2</td>\n",
       "      <td>15647311</td>\n",
       "      <td>hill</td>\n",
       "      <td>608</td>\n",
       "      <td>spain</td>\n",
       "      <td>female</td>\n",
       "      <td>41</td>\n",
       "      <td>1.0</td>\n",
       "      <td>83807.86</td>\n",
       "      <td>1</td>\n",
       "      <td>0</td>\n",
       "      <td>1</td>\n",
       "      <td>112542.58</td>\n",
       "      <td>0</td>\n",
       "    </tr>\n",
       "    <tr>\n",
       "      <th>2</th>\n",
       "      <td>3</td>\n",
       "      <td>15619304</td>\n",
       "      <td>onio</td>\n",
       "      <td>502</td>\n",
       "      <td>france</td>\n",
       "      <td>female</td>\n",
       "      <td>42</td>\n",
       "      <td>8.0</td>\n",
       "      <td>159660.80</td>\n",
       "      <td>3</td>\n",
       "      <td>1</td>\n",
       "      <td>0</td>\n",
       "      <td>113931.57</td>\n",
       "      <td>1</td>\n",
       "    </tr>\n",
       "    <tr>\n",
       "      <th>3</th>\n",
       "      <td>4</td>\n",
       "      <td>15701354</td>\n",
       "      <td>boni</td>\n",
       "      <td>699</td>\n",
       "      <td>france</td>\n",
       "      <td>female</td>\n",
       "      <td>39</td>\n",
       "      <td>1.0</td>\n",
       "      <td>0.00</td>\n",
       "      <td>2</td>\n",
       "      <td>0</td>\n",
       "      <td>0</td>\n",
       "      <td>93826.63</td>\n",
       "      <td>0</td>\n",
       "    </tr>\n",
       "    <tr>\n",
       "      <th>4</th>\n",
       "      <td>5</td>\n",
       "      <td>15737888</td>\n",
       "      <td>mitchell</td>\n",
       "      <td>850</td>\n",
       "      <td>spain</td>\n",
       "      <td>female</td>\n",
       "      <td>43</td>\n",
       "      <td>2.0</td>\n",
       "      <td>125510.82</td>\n",
       "      <td>1</td>\n",
       "      <td>1</td>\n",
       "      <td>1</td>\n",
       "      <td>79084.10</td>\n",
       "      <td>0</td>\n",
       "    </tr>\n",
       "  </tbody>\n",
       "</table>\n",
       "</div>"
      ],
      "text/plain": [
       "   row_number  customer_id   surname  credit_score geography  gender  age  \\\n",
       "0           1     15634602  hargrave           619    france  female   42   \n",
       "1           2     15647311      hill           608     spain  female   41   \n",
       "2           3     15619304      onio           502    france  female   42   \n",
       "3           4     15701354      boni           699    france  female   39   \n",
       "4           5     15737888  mitchell           850     spain  female   43   \n",
       "\n",
       "   tenure    balance  num_of_products  has_cr_card  is_active_member  \\\n",
       "0     2.0       0.00                1            1                 1   \n",
       "1     1.0   83807.86                1            0                 1   \n",
       "2     8.0  159660.80                3            1                 0   \n",
       "3     1.0       0.00                2            0                 0   \n",
       "4     2.0  125510.82                1            1                 1   \n",
       "\n",
       "   estimated_salary  exited  \n",
       "0         101348.88       1  \n",
       "1         112542.58       0  \n",
       "2         113931.57       1  \n",
       "3          93826.63       0  \n",
       "4          79084.10       0  "
      ]
     },
     "execution_count": 17,
     "metadata": {},
     "output_type": "execute_result"
    }
   ],
   "source": [
    "data.head()"
   ]
  },
  {
   "cell_type": "code",
   "execution_count": 18,
   "metadata": {
    "scrolled": true
   },
   "outputs": [
    {
     "data": {
      "text/plain": [
       "france     5014\n",
       "germany    2509\n",
       "spain      2477\n",
       "Name: geography, dtype: int64"
      ]
     },
     "execution_count": 18,
     "metadata": {},
     "output_type": "execute_result"
    }
   ],
   "source": [
    "data['geography'].value_counts()"
   ]
  },
  {
   "cell_type": "code",
   "execution_count": 19,
   "metadata": {
    "scrolled": true
   },
   "outputs": [
    {
     "data": {
      "text/plain": [
       "smith       32\n",
       "scott       29\n",
       "martin      29\n",
       "walker      28\n",
       "brown       26\n",
       "            ..\n",
       "izmailov     1\n",
       "bold         1\n",
       "bonham       1\n",
       "poninski     1\n",
       "burbidge     1\n",
       "Name: surname, Length: 2931, dtype: int64"
      ]
     },
     "execution_count": 19,
     "metadata": {},
     "output_type": "execute_result"
    }
   ],
   "source": [
    "data['surname'].value_counts()"
   ]
  },
  {
   "cell_type": "markdown",
   "metadata": {},
   "source": [
    "Поскольку количество имён огромное количество, то выявление связи с именем будет неточным. И поскольку множество этих имён встречается по одному разу, то и upsampling может принять ответы являющиеся исключением за правило. В связи с тем, что эти данные нам больше не понядобятся можем их удалить. Это же касается и столбцов с номером строки и customer_id. "
   ]
  },
  {
   "cell_type": "code",
   "execution_count": 20,
   "metadata": {},
   "outputs": [],
   "source": [
    "data = data.drop(['surname', 'customer_id', 'row_number'], axis=1)"
   ]
  },
  {
   "cell_type": "code",
   "execution_count": 21,
   "metadata": {
    "scrolled": true
   },
   "outputs": [
    {
     "data": {
      "text/html": [
       "<div>\n",
       "<style scoped>\n",
       "    .dataframe tbody tr th:only-of-type {\n",
       "        vertical-align: middle;\n",
       "    }\n",
       "\n",
       "    .dataframe tbody tr th {\n",
       "        vertical-align: top;\n",
       "    }\n",
       "\n",
       "    .dataframe thead th {\n",
       "        text-align: right;\n",
       "    }\n",
       "</style>\n",
       "<table border=\"1\" class=\"dataframe\">\n",
       "  <thead>\n",
       "    <tr style=\"text-align: right;\">\n",
       "      <th></th>\n",
       "      <th>credit_score</th>\n",
       "      <th>age</th>\n",
       "      <th>tenure</th>\n",
       "      <th>balance</th>\n",
       "      <th>num_of_products</th>\n",
       "      <th>has_cr_card</th>\n",
       "      <th>is_active_member</th>\n",
       "      <th>estimated_salary</th>\n",
       "      <th>exited</th>\n",
       "      <th>geography_germany</th>\n",
       "      <th>geography_spain</th>\n",
       "      <th>gender_male</th>\n",
       "    </tr>\n",
       "  </thead>\n",
       "  <tbody>\n",
       "    <tr>\n",
       "      <th>0</th>\n",
       "      <td>619</td>\n",
       "      <td>42</td>\n",
       "      <td>2.0</td>\n",
       "      <td>0.00</td>\n",
       "      <td>1</td>\n",
       "      <td>1</td>\n",
       "      <td>1</td>\n",
       "      <td>101348.88</td>\n",
       "      <td>1</td>\n",
       "      <td>0</td>\n",
       "      <td>0</td>\n",
       "      <td>0</td>\n",
       "    </tr>\n",
       "    <tr>\n",
       "      <th>1</th>\n",
       "      <td>608</td>\n",
       "      <td>41</td>\n",
       "      <td>1.0</td>\n",
       "      <td>83807.86</td>\n",
       "      <td>1</td>\n",
       "      <td>0</td>\n",
       "      <td>1</td>\n",
       "      <td>112542.58</td>\n",
       "      <td>0</td>\n",
       "      <td>0</td>\n",
       "      <td>1</td>\n",
       "      <td>0</td>\n",
       "    </tr>\n",
       "    <tr>\n",
       "      <th>2</th>\n",
       "      <td>502</td>\n",
       "      <td>42</td>\n",
       "      <td>8.0</td>\n",
       "      <td>159660.80</td>\n",
       "      <td>3</td>\n",
       "      <td>1</td>\n",
       "      <td>0</td>\n",
       "      <td>113931.57</td>\n",
       "      <td>1</td>\n",
       "      <td>0</td>\n",
       "      <td>0</td>\n",
       "      <td>0</td>\n",
       "    </tr>\n",
       "    <tr>\n",
       "      <th>3</th>\n",
       "      <td>699</td>\n",
       "      <td>39</td>\n",
       "      <td>1.0</td>\n",
       "      <td>0.00</td>\n",
       "      <td>2</td>\n",
       "      <td>0</td>\n",
       "      <td>0</td>\n",
       "      <td>93826.63</td>\n",
       "      <td>0</td>\n",
       "      <td>0</td>\n",
       "      <td>0</td>\n",
       "      <td>0</td>\n",
       "    </tr>\n",
       "    <tr>\n",
       "      <th>4</th>\n",
       "      <td>850</td>\n",
       "      <td>43</td>\n",
       "      <td>2.0</td>\n",
       "      <td>125510.82</td>\n",
       "      <td>1</td>\n",
       "      <td>1</td>\n",
       "      <td>1</td>\n",
       "      <td>79084.10</td>\n",
       "      <td>0</td>\n",
       "      <td>0</td>\n",
       "      <td>1</td>\n",
       "      <td>0</td>\n",
       "    </tr>\n",
       "  </tbody>\n",
       "</table>\n",
       "</div>"
      ],
      "text/plain": [
       "   credit_score  age  tenure    balance  num_of_products  has_cr_card  \\\n",
       "0           619   42     2.0       0.00                1            1   \n",
       "1           608   41     1.0   83807.86                1            0   \n",
       "2           502   42     8.0  159660.80                3            1   \n",
       "3           699   39     1.0       0.00                2            0   \n",
       "4           850   43     2.0  125510.82                1            1   \n",
       "\n",
       "   is_active_member  estimated_salary  exited  geography_germany  \\\n",
       "0                 1         101348.88       1                  0   \n",
       "1                 1         112542.58       0                  0   \n",
       "2                 0         113931.57       1                  0   \n",
       "3                 0          93826.63       0                  0   \n",
       "4                 1          79084.10       0                  0   \n",
       "\n",
       "   geography_spain  gender_male  \n",
       "0                0            0  \n",
       "1                1            0  \n",
       "2                0            0  \n",
       "3                0            0  \n",
       "4                1            0  "
      ]
     },
     "execution_count": 21,
     "metadata": {},
     "output_type": "execute_result"
    }
   ],
   "source": [
    "data = pd.get_dummies(data, drop_first=True)\n",
    "data.head()"
   ]
  },
  {
   "cell_type": "markdown",
   "metadata": {},
   "source": [
    "**Стандартизация данных**"
   ]
  },
  {
   "cell_type": "code",
   "execution_count": 22,
   "metadata": {},
   "outputs": [],
   "source": [
    "features = data.drop('exited', 1)\n",
    "target = data['exited']\n",
    "features_train, features_valid, target_train, target_valid = train_test_split(features, target, test_size=0.4, random_state=12345)\n",
    "features_valid, features_test, target_valid, target_test = train_test_split(features_valid, target_valid, test_size=0.5, random_state=12345)"
   ]
  },
  {
   "cell_type": "code",
   "execution_count": 23,
   "metadata": {},
   "outputs": [
    {
     "name": "stdout",
     "output_type": "stream",
     "text": [
      "(6000, 11)\n",
      "(2000, 11)\n",
      "(2000, 11)\n"
     ]
    }
   ],
   "source": [
    "print(features_train.shape)\n",
    "print(features_valid.shape)\n",
    "print(features_test.shape)"
   ]
  },
  {
   "cell_type": "code",
   "execution_count": 24,
   "metadata": {},
   "outputs": [
    {
     "data": {
      "text/plain": [
       "Index(['credit_score', 'age', 'tenure', 'balance', 'num_of_products',\n",
       "       'has_cr_card', 'is_active_member', 'estimated_salary', 'exited',\n",
       "       'geography_germany', 'geography_spain', 'gender_male'],\n",
       "      dtype='object')"
      ]
     },
     "execution_count": 24,
     "metadata": {},
     "output_type": "execute_result"
    }
   ],
   "source": [
    "data.columns"
   ]
  },
  {
   "cell_type": "code",
   "execution_count": 25,
   "metadata": {},
   "outputs": [
    {
     "data": {
      "text/html": [
       "<div>\n",
       "<style scoped>\n",
       "    .dataframe tbody tr th:only-of-type {\n",
       "        vertical-align: middle;\n",
       "    }\n",
       "\n",
       "    .dataframe tbody tr th {\n",
       "        vertical-align: top;\n",
       "    }\n",
       "\n",
       "    .dataframe thead th {\n",
       "        text-align: right;\n",
       "    }\n",
       "</style>\n",
       "<table border=\"1\" class=\"dataframe\">\n",
       "  <thead>\n",
       "    <tr style=\"text-align: right;\">\n",
       "      <th></th>\n",
       "      <th>credit_score</th>\n",
       "      <th>age</th>\n",
       "      <th>tenure</th>\n",
       "      <th>balance</th>\n",
       "      <th>num_of_products</th>\n",
       "      <th>has_cr_card</th>\n",
       "      <th>is_active_member</th>\n",
       "      <th>estimated_salary</th>\n",
       "      <th>geography_germany</th>\n",
       "      <th>geography_spain</th>\n",
       "      <th>gender_male</th>\n",
       "    </tr>\n",
       "  </thead>\n",
       "  <tbody>\n",
       "    <tr>\n",
       "      <th>0</th>\n",
       "      <td>-0.886751</td>\n",
       "      <td>-0.373192</td>\n",
       "      <td>1.082277</td>\n",
       "      <td>1.232271</td>\n",
       "      <td>-0.891560</td>\n",
       "      <td>0.642466</td>\n",
       "      <td>-1.055187</td>\n",
       "      <td>-0.187705</td>\n",
       "      <td>-0.572475</td>\n",
       "      <td>1.728977</td>\n",
       "      <td>0.907278</td>\n",
       "    </tr>\n",
       "    <tr>\n",
       "      <th>1</th>\n",
       "      <td>0.608663</td>\n",
       "      <td>-0.183385</td>\n",
       "      <td>1.082277</td>\n",
       "      <td>0.600563</td>\n",
       "      <td>-0.891560</td>\n",
       "      <td>-1.556504</td>\n",
       "      <td>-1.055187</td>\n",
       "      <td>-0.333945</td>\n",
       "      <td>-0.572475</td>\n",
       "      <td>-0.578377</td>\n",
       "      <td>-1.102198</td>\n",
       "    </tr>\n",
       "    <tr>\n",
       "      <th>2</th>\n",
       "      <td>2.052152</td>\n",
       "      <td>0.480939</td>\n",
       "      <td>-0.737696</td>\n",
       "      <td>1.027098</td>\n",
       "      <td>0.830152</td>\n",
       "      <td>-1.556504</td>\n",
       "      <td>0.947699</td>\n",
       "      <td>1.503095</td>\n",
       "      <td>1.746802</td>\n",
       "      <td>-0.578377</td>\n",
       "      <td>0.907278</td>\n",
       "    </tr>\n",
       "    <tr>\n",
       "      <th>3</th>\n",
       "      <td>-1.457915</td>\n",
       "      <td>-1.417129</td>\n",
       "      <td>0.354288</td>\n",
       "      <td>-1.233163</td>\n",
       "      <td>0.830152</td>\n",
       "      <td>0.642466</td>\n",
       "      <td>-1.055187</td>\n",
       "      <td>-1.071061</td>\n",
       "      <td>-0.572475</td>\n",
       "      <td>-0.578377</td>\n",
       "      <td>0.907278</td>\n",
       "    </tr>\n",
       "    <tr>\n",
       "      <th>4</th>\n",
       "      <td>0.130961</td>\n",
       "      <td>-1.132419</td>\n",
       "      <td>-1.101690</td>\n",
       "      <td>1.140475</td>\n",
       "      <td>-0.891560</td>\n",
       "      <td>-1.556504</td>\n",
       "      <td>-1.055187</td>\n",
       "      <td>1.524268</td>\n",
       "      <td>1.746802</td>\n",
       "      <td>-0.578377</td>\n",
       "      <td>-1.102198</td>\n",
       "    </tr>\n",
       "    <tr>\n",
       "      <th>...</th>\n",
       "      <td>...</td>\n",
       "      <td>...</td>\n",
       "      <td>...</td>\n",
       "      <td>...</td>\n",
       "      <td>...</td>\n",
       "      <td>...</td>\n",
       "      <td>...</td>\n",
       "      <td>...</td>\n",
       "      <td>...</td>\n",
       "      <td>...</td>\n",
       "      <td>...</td>\n",
       "    </tr>\n",
       "    <tr>\n",
       "      <th>5995</th>\n",
       "      <td>-1.073677</td>\n",
       "      <td>-0.752805</td>\n",
       "      <td>-0.373701</td>\n",
       "      <td>-1.233163</td>\n",
       "      <td>0.830152</td>\n",
       "      <td>-1.556504</td>\n",
       "      <td>0.947699</td>\n",
       "      <td>-1.278361</td>\n",
       "      <td>-0.572475</td>\n",
       "      <td>-0.578377</td>\n",
       "      <td>0.907278</td>\n",
       "    </tr>\n",
       "    <tr>\n",
       "      <th>5996</th>\n",
       "      <td>-1.447531</td>\n",
       "      <td>-0.942612</td>\n",
       "      <td>1.810266</td>\n",
       "      <td>-1.233163</td>\n",
       "      <td>0.830152</td>\n",
       "      <td>-1.556504</td>\n",
       "      <td>0.947699</td>\n",
       "      <td>-1.281307</td>\n",
       "      <td>-0.572475</td>\n",
       "      <td>-0.578377</td>\n",
       "      <td>0.907278</td>\n",
       "    </tr>\n",
       "    <tr>\n",
       "      <th>5997</th>\n",
       "      <td>0.027113</td>\n",
       "      <td>0.575842</td>\n",
       "      <td>-0.009707</td>\n",
       "      <td>-0.310229</td>\n",
       "      <td>-0.891560</td>\n",
       "      <td>-1.556504</td>\n",
       "      <td>0.947699</td>\n",
       "      <td>-0.903158</td>\n",
       "      <td>-0.572475</td>\n",
       "      <td>-0.578377</td>\n",
       "      <td>-1.102198</td>\n",
       "    </tr>\n",
       "    <tr>\n",
       "      <th>5998</th>\n",
       "      <td>0.151731</td>\n",
       "      <td>-1.417129</td>\n",
       "      <td>-0.373701</td>\n",
       "      <td>-1.233163</td>\n",
       "      <td>0.830152</td>\n",
       "      <td>-1.556504</td>\n",
       "      <td>0.947699</td>\n",
       "      <td>-1.128539</td>\n",
       "      <td>-0.572475</td>\n",
       "      <td>-0.578377</td>\n",
       "      <td>-1.102198</td>\n",
       "    </tr>\n",
       "    <tr>\n",
       "      <th>5999</th>\n",
       "      <td>0.400966</td>\n",
       "      <td>-0.088482</td>\n",
       "      <td>-1.465685</td>\n",
       "      <td>-1.233163</td>\n",
       "      <td>0.830152</td>\n",
       "      <td>-1.556504</td>\n",
       "      <td>-1.055187</td>\n",
       "      <td>-0.949841</td>\n",
       "      <td>-0.572475</td>\n",
       "      <td>-0.578377</td>\n",
       "      <td>0.907278</td>\n",
       "    </tr>\n",
       "  </tbody>\n",
       "</table>\n",
       "<p>6000 rows × 11 columns</p>\n",
       "</div>"
      ],
      "text/plain": [
       "      credit_score       age    tenure   balance  num_of_products  \\\n",
       "0        -0.886751 -0.373192  1.082277  1.232271        -0.891560   \n",
       "1         0.608663 -0.183385  1.082277  0.600563        -0.891560   \n",
       "2         2.052152  0.480939 -0.737696  1.027098         0.830152   \n",
       "3        -1.457915 -1.417129  0.354288 -1.233163         0.830152   \n",
       "4         0.130961 -1.132419 -1.101690  1.140475        -0.891560   \n",
       "...            ...       ...       ...       ...              ...   \n",
       "5995     -1.073677 -0.752805 -0.373701 -1.233163         0.830152   \n",
       "5996     -1.447531 -0.942612  1.810266 -1.233163         0.830152   \n",
       "5997      0.027113  0.575842 -0.009707 -0.310229        -0.891560   \n",
       "5998      0.151731 -1.417129 -0.373701 -1.233163         0.830152   \n",
       "5999      0.400966 -0.088482 -1.465685 -1.233163         0.830152   \n",
       "\n",
       "      has_cr_card  is_active_member  estimated_salary  geography_germany  \\\n",
       "0        0.642466         -1.055187         -0.187705          -0.572475   \n",
       "1       -1.556504         -1.055187         -0.333945          -0.572475   \n",
       "2       -1.556504          0.947699          1.503095           1.746802   \n",
       "3        0.642466         -1.055187         -1.071061          -0.572475   \n",
       "4       -1.556504         -1.055187          1.524268           1.746802   \n",
       "...           ...               ...               ...                ...   \n",
       "5995    -1.556504          0.947699         -1.278361          -0.572475   \n",
       "5996    -1.556504          0.947699         -1.281307          -0.572475   \n",
       "5997    -1.556504          0.947699         -0.903158          -0.572475   \n",
       "5998    -1.556504          0.947699         -1.128539          -0.572475   \n",
       "5999    -1.556504         -1.055187         -0.949841          -0.572475   \n",
       "\n",
       "      geography_spain  gender_male  \n",
       "0            1.728977     0.907278  \n",
       "1           -0.578377    -1.102198  \n",
       "2           -0.578377     0.907278  \n",
       "3           -0.578377     0.907278  \n",
       "4           -0.578377    -1.102198  \n",
       "...               ...          ...  \n",
       "5995        -0.578377     0.907278  \n",
       "5996        -0.578377     0.907278  \n",
       "5997        -0.578377    -1.102198  \n",
       "5998        -0.578377    -1.102198  \n",
       "5999        -0.578377     0.907278  \n",
       "\n",
       "[6000 rows x 11 columns]"
      ]
     },
     "execution_count": 25,
     "metadata": {},
     "output_type": "execute_result"
    }
   ],
   "source": [
    "#numeric = ['credit_score', 'age', 'tenure', 'balance', 'num_of_products',\n",
    "      #'has_cr_card', 'is_active_member', 'estimated_salary']\n",
    "scaler = StandardScaler()\n",
    "scaler.fit(features_train)\n",
    "features_train = scaler.transform(features_train)\n",
    "features_valid = scaler.transform(features_valid)\n",
    "features_test = scaler.transform(features_test)\n",
    "pd.options.mode.chained_assignment = None \n",
    "features_train = pd.DataFrame(features_train, columns=features.columns)\n",
    "features_valid = pd.DataFrame(features_valid, columns=features.columns)\n",
    "features_test = pd.DataFrame(features_test, columns=features.columns)\n",
    "features_train"
   ]
  },
  {
   "cell_type": "markdown",
   "metadata": {},
   "source": [
    "Данные стандартизированы. Теперь все они имеют одинаковый разброс и отцентрированы вокруг нуля."
   ]
  },
  {
   "cell_type": "markdown",
   "metadata": {},
   "source": [
    "**Выводы**"
   ]
  },
  {
   "cell_type": "markdown",
   "metadata": {},
   "source": [
    "1. Название столбцов приведены к единому виду\n",
    "2.\tПоскольку среди многих пропусков в столбце со сроком пользования банковскими услугами также присутствуют пропуски в столбце с балансом, можно предположить, что клиенты новые, но система их пока не успела отобразить это в данных. Поскольку данное суждение не является абсолютно точным, то для повышения качества модели лучше удалить строки с пропуском.\n",
    "3.\tДля поиска дубликатов все значения таблицы были приведены к нижнему регистру. Дубликатов не обнаружен.\n",
    "3.\tПоскольку количество имён огромное количество, то выявление связи с именем будет неточным. И поскольку множество этих имён встречается по одному разу, то и upsampling может принять ответы являющиеся исключением за правило. В связи с тем, что эти данные нам больше не понядобятся можем их удалить. Это же касается и столбцов с номером строки и customer_id. Удалим их.\n",
    "4.\tДля дальнейшего построения моеделей необходимо преобразовать категориальные столбцы в числовые. Поскольку разные значения одного столбца имеют одинаковое значение, то для преобразования признаков воспользуемся техникой ohe.\n",
    "5. Данные резделены на тренировочную, валидационную и тестовую в пропорции 60% - 20% - 20%.\n",
    "6.\tДанные стандартизированы. Все они имеют одинаковый разброс"
   ]
  },
  {
   "cell_type": "markdown",
   "metadata": {},
   "source": [
    "## Исследование задачи"
   ]
  },
  {
   "cell_type": "markdown",
   "metadata": {},
   "source": [
    "Рассмотрим качество обучения модели по различным метрикам на различных моделях"
   ]
  },
  {
   "cell_type": "code",
   "execution_count": 26,
   "metadata": {},
   "outputs": [
    {
     "name": "stdout",
     "output_type": "stream",
     "text": [
      "1196\n",
      "4804\n",
      "0.8006666666666666\n"
     ]
    }
   ],
   "source": [
    "print(target_train[target_train == 1].count())\n",
    "print(target_train[target_train == 0].count())\n",
    "print(target_train[target_train == 0].count() / (target_train[target_train == 1].count() + target_train[target_train == 0].count()))"
   ]
  },
  {
   "cell_type": "code",
   "execution_count": 27,
   "metadata": {},
   "outputs": [
    {
     "name": "stdout",
     "output_type": "stream",
     "text": [
      "418\n",
      "1582\n",
      "0.791\n"
     ]
    }
   ],
   "source": [
    "print(target_valid[target_valid == 1].count())\n",
    "print(target_valid[target_valid == 0].count())\n",
    "print(target_valid[target_valid == 0].count() / (target_valid[target_valid == 1].count() + target_valid[target_valid == 0].count()))"
   ]
  },
  {
   "cell_type": "code",
   "execution_count": 28,
   "metadata": {},
   "outputs": [
    {
     "name": "stdout",
     "output_type": "stream",
     "text": [
      "Accuracy: 0.802\n",
      "Precision: 0.5632183908045977\n",
      "Recall: 0.23444976076555024\n",
      "f1: 0.33108108108108103\n",
      "ROC-AUC: 0.7586363333918061\n"
     ]
    }
   ],
   "source": [
    "model = LogisticRegression(solver='liblinear')\n",
    "model.fit(features_train, target_train)\n",
    "prediction = model.predict(features_valid)\n",
    "probabilities = model.predict_proba(features_valid)\n",
    "roc_auc = roc_auc_score(target_valid, probabilities[:, 1])\n",
    "print('Accuracy:', accuracy_score(target_valid, prediction))\n",
    "print('Precision:', precision_score(target_valid, prediction))\n",
    "print('Recall:', recall_score(target_valid, prediction))\n",
    "print('f1:', f1_score(target_valid, prediction))\n",
    "print('ROC-AUC:', roc_auc)"
   ]
  },
  {
   "cell_type": "markdown",
   "metadata": {},
   "source": [
    "Применяя модель Логистической регрессии мы получаем увеличение точности менее чем на один процент, чем если бы всегда утверждали, что клиент не уйдёт. Метрика ROC-AUC показывает высокие результаты."
   ]
  },
  {
   "cell_type": "code",
   "execution_count": 29,
   "metadata": {
    "scrolled": true
   },
   "outputs": [
    {
     "name": "stdout",
     "output_type": "stream",
     "text": [
      "Accuracy: 0.858\n",
      "Depth: 6\n",
      "Precision: 0.7768595041322314\n",
      "Recall: 0.44976076555023925\n",
      "f1: 0.5696969696969697\n",
      "ROC-AUC: 0.6840857675161356\n"
     ]
    }
   ],
   "source": [
    "best_accuracy = 0\n",
    "for depth in range(1, 20, 1):\n",
    "    model = DecisionTreeClassifier(random_state=12345, max_depth=depth)\n",
    "    model.fit(features_train, target_train)\n",
    "    prediction = model.predict(features_valid)\n",
    "    accuracy = accuracy_score(target_valid, prediction)\n",
    "    probabilities = model.predict_proba(features_valid)\n",
    "    auc_roc = roc_auc_score(target_valid, probabilities[:, 1])\n",
    "    if accuracy > best_accuracy:\n",
    "        best_accuracy = accuracy\n",
    "        best_depth = depth\n",
    "        recall = recall_score(target_valid, prediction)\n",
    "        precision = precision_score(target_valid, prediction)\n",
    "        f1 = f1_score(target_valid, prediction)\n",
    "        \n",
    "print('Accuracy:', best_accuracy)\n",
    "print('Depth:', best_depth)\n",
    "print('Precision:', precision)\n",
    "print('Recall:', recall)\n",
    "print('f1:', f1)\n",
    "print('ROC-AUC:', auc_roc)\n"
   ]
  },
  {
   "cell_type": "markdown",
   "metadata": {},
   "source": [
    "Модель случайного дерева показала увеличение точности на 5%, при параллельном увеличении других метрик, но метрика ROC-AUC находится на невысоком уровне, что говорит о слабости модели."
   ]
  },
  {
   "cell_type": "code",
   "execution_count": 30,
   "metadata": {},
   "outputs": [
    {
     "name": "stdout",
     "output_type": "stream",
     "text": [
      "Accuracy: 0.8645\n",
      "Depth: 8\n",
      "Estimators: 51\n",
      "Precision: 0.8450704225352113\n",
      "Recall: 0.430622009569378\n",
      "f1: 0.5705229793977813\n",
      "ROC-AUC: 0.8367194635825285\n"
     ]
    }
   ],
   "source": [
    "best_accuracy = 0\n",
    "for depth in range(1, 20, 1):\n",
    "    for est in range(1, 100, 10):\n",
    "        model = RandomForestClassifier(max_depth=depth, n_estimators=est, random_state=12345)\n",
    "        model.fit(features_train, target_train)\n",
    "        prediction = model.predict(features_valid)\n",
    "        accuracy = accuracy_score(target_valid, prediction)\n",
    "        probabilities = model.predict_proba(features_valid)\n",
    "        auc_roc = roc_auc_score(target_valid, probabilities[:, 1])\n",
    "        if accuracy > best_accuracy:\n",
    "            best_accuracy = accuracy\n",
    "            best_depth = depth\n",
    "            recall = recall_score(target_valid, prediction)\n",
    "            precision = precision_score(target_valid, prediction)\n",
    "            f1 = f1_score(target_valid, prediction)\n",
    "            best_est = est\n",
    "\n",
    "print('Accuracy:', best_accuracy)\n",
    "print('Depth:', best_depth)\n",
    "print('Estimators:', best_est)\n",
    "print('Precision:', precision)\n",
    "print('Recall:', recall)\n",
    "print('f1:', f1) \n",
    "print('ROC-AUC:', auc_roc)"
   ]
  },
  {
   "cell_type": "markdown",
   "metadata": {},
   "source": [
    "Модель случайного леса с дисбалансом показала наилучшие результаты. Точность увеличилась на 6 процентов, чем если всегда утверждать, что клиент не уйдёт. При этом показатель f1 на валидационной выборке достиг целевого результата, а метрика roc_auc показывает высокие результаты, что говорит о надёжности модели."
   ]
  },
  {
   "cell_type": "markdown",
   "metadata": {},
   "source": [
    "**Выводы**"
   ]
  },
  {
   "cell_type": "markdown",
   "metadata": {},
   "source": [
    "1.\tПрименяя модель Логистической регрессии мы получаем увеличение точности менее чем на один процент, чем если бы всегда утверждали, что задержек не будет. Но при этом метрика roc_auc находится на высоком уровне.\n",
    "2.\tМодель случайного дерева показала увеличение точности на 5%, при параллельном увеличении других метрик, но при низком показателе roc_auc, что говорит о слабости модели.\n",
    "3.\tМодель случайного леса с дисбалансом показала наилучшие результаты. Точность увеличилась на 6 процентов, чем если всегда утверждать, что клиент не уйдёт. При этом показатель f1 на валидационной выборке достиг целевого результата. А показатель roc_auc подтверждает надёжность модели."
   ]
  },
  {
   "cell_type": "markdown",
   "metadata": {},
   "source": [
    "## Борьба с дисбалансом"
   ]
  },
  {
   "cell_type": "markdown",
   "metadata": {},
   "source": [
    "Для большей точности показателей необходимо избавиться от дисбаланса. Для этой цели цели есть два метода: upsampling(увеличение меньшей части выборки) и downsampling (уменьшение большей части выборки) "
   ]
  },
  {
   "cell_type": "markdown",
   "metadata": {},
   "source": [
    "### Upsampling"
   ]
  },
  {
   "cell_type": "markdown",
   "metadata": {},
   "source": [
    "repeat = 4, так как количесвто клиентов которые остаются приблизительно в четыре раза больше чем клиентов уходящих из банка."
   ]
  },
  {
   "cell_type": "code",
   "execution_count": 31,
   "metadata": {},
   "outputs": [],
   "source": [
    "def upsample(features, target, repeat):\n",
    "    features_ones = features[target == 1]\n",
    "    features_zeros = features[target == 0]\n",
    "    target_ones = target[target == 1]\n",
    "    target_zeros = target[target == 0]\n",
    "    \n",
    "    features_upsampled = pd.concat([features_zeros] + [features_ones] * repeat)\n",
    "    target_upsampled = pd.concat([target_zeros] + [target_ones] * repeat)\n",
    "    features_upsampled, target_upsampled = shuffle(features_upsampled, target_upsampled, random_state=12345)\n",
    "    return features_upsampled, target_upsampled"
   ]
  },
  {
   "cell_type": "code",
   "execution_count": 32,
   "metadata": {},
   "outputs": [],
   "source": [
    "target_train = pd.Series(target_train).reset_index(drop=True)\n",
    "target_valid = pd.Series(target_valid).reset_index(drop=True)\n",
    "target_test = pd.Series(target_test).reset_index(drop=True)"
   ]
  },
  {
   "cell_type": "code",
   "execution_count": 33,
   "metadata": {
    "scrolled": true
   },
   "outputs": [],
   "source": [
    "features_train_up, target_train_up = upsample(features_train, target_train, 4)"
   ]
  },
  {
   "cell_type": "markdown",
   "metadata": {},
   "source": [
    "Проверка работы моделей на сбалансированных данных"
   ]
  },
  {
   "cell_type": "code",
   "execution_count": 34,
   "metadata": {
    "scrolled": true
   },
   "outputs": [
    {
     "name": "stdout",
     "output_type": "stream",
     "text": [
      "ROC-AUC: 0.763567708490857\n",
      "Accuracy: 0.702\n",
      "Precision: 0.3810160427807487\n",
      "Recall: 0.6818181818181818\n",
      "f1: 0.4888507718696398\n"
     ]
    }
   ],
   "source": [
    "model = LogisticRegression(solver='liblinear')\n",
    "model.fit(features_train_up, target_train_up)\n",
    "prediction = model.predict(features_valid)\n",
    "probabilities = model.predict_proba(features_valid)\n",
    "print('ROC-AUC:', roc_auc_score(target_valid, probabilities[:, 1]))\n",
    "print('Accuracy:', accuracy_score(target_valid, prediction))\n",
    "print('Precision:', precision_score(target_valid, prediction))\n",
    "print('Recall:', recall_score(target_valid, prediction))\n",
    "print('f1:', f1_score(target_valid, prediction))"
   ]
  },
  {
   "cell_type": "markdown",
   "metadata": {},
   "source": [
    "На сбалансированных данных на модели логистической регрессии точность упала, но охват увеличился, показатель f1 тоже увеличился. А вот правильность общих ответов уменьшилась. Метрика roc_auc уменьшилась, то есть и уменьшилась надёжность модели."
   ]
  },
  {
   "cell_type": "code",
   "execution_count": 35,
   "metadata": {
    "scrolled": true
   },
   "outputs": [
    {
     "name": "stdout",
     "output_type": "stream",
     "text": [
      "ROC-AUC: 0.8310244134068074\n",
      "Accuracy: 0.8105\n",
      "Depth: 5\n",
      "Precision: 0.5374280230326296\n",
      "Recall: 0.6698564593301436\n",
      "f1: 0.5963791267305644\n"
     ]
    }
   ],
   "source": [
    "best_accuracy = 0\n",
    "for depth in range(1, 20, 1):\n",
    "    model = DecisionTreeClassifier(random_state=12345, max_depth=depth)\n",
    "    model.fit(features_train_up, target_train_up)\n",
    "    prediction = model.predict(features_valid)\n",
    "    accuracy = accuracy_score(target_valid, prediction)\n",
    "    if accuracy > best_accuracy:\n",
    "        best_accuracy = accuracy\n",
    "        best_depth = depth\n",
    "        recall = recall_score(target_valid, prediction)\n",
    "        precision = precision_score(target_valid, prediction)\n",
    "        f1 = f1_score(target_valid, prediction)\n",
    "        probabilities = model.predict_proba(features_valid)\n",
    "        \n",
    "print('ROC-AUC:', roc_auc_score(target_valid, probabilities[:, 1]))       \n",
    "print('Accuracy:', best_accuracy)\n",
    "print('Depth:', best_depth)\n",
    "print('Precision:', precision)\n",
    "print('Recall:', recall)\n",
    "print('f1:', f1)  "
   ]
  },
  {
   "cell_type": "markdown",
   "metadata": {},
   "source": [
    "Модель случайного дерева на сбалансированных данных показала результаты лучше чем без upsampling. Модель является качественной и надёжной."
   ]
  },
  {
   "cell_type": "code",
   "execution_count": 36,
   "metadata": {},
   "outputs": [
    {
     "name": "stdout",
     "output_type": "stream",
     "text": [
      "ROC-AUC: 0.8419124541038842\n",
      "Accuracy: 0.853\n",
      "Depth: 17\n",
      "Estimators: 91\n",
      "Precision: 0.6802325581395349\n",
      "Recall: 0.5598086124401914\n",
      "f1: 0.6141732283464567\n"
     ]
    }
   ],
   "source": [
    "best_accuracy = 0\n",
    "for depth in range(1, 24, 1):\n",
    "    for est in range(1, 120, 10):\n",
    "        model = RandomForestClassifier(max_depth=depth, n_estimators=est, random_state=12345)\n",
    "        model.fit(features_train_up, target_train_up)\n",
    "        prediction = model.predict(features_valid)\n",
    "        accuracy = accuracy_score(target_valid, prediction)\n",
    "        if accuracy > best_accuracy:\n",
    "            best_accuracy = accuracy\n",
    "            best_depth = depth\n",
    "            recall = recall_score(target_valid, prediction)\n",
    "            precision = precision_score(target_valid, prediction)\n",
    "            f1 = f1_score(target_valid, prediction)\n",
    "            best_est = est\n",
    "            probabilities = model.predict_proba(features_valid)\n",
    "        \n",
    "print('ROC-AUC:', roc_auc_score(target_valid, probabilities[:, 1]))  \n",
    "print('Accuracy:', best_accuracy)\n",
    "print('Depth:', best_depth)\n",
    "print('Estimators:', best_est)\n",
    "print('Precision:', precision)\n",
    "print('Recall:', recall)\n",
    "print('f1:', f1) "
   ]
  },
  {
   "cell_type": "markdown",
   "metadata": {},
   "source": [
    "Модель случайного леса на сбалансированных данных (методом upsampling) показала прогресс по всем метрикам. Таким образом, до результатов моделей по downsampling наиболее эффективна модель случайного леса с гиперпараметрами: Depth: 17, Estimators: 91"
   ]
  },
  {
   "cell_type": "markdown",
   "metadata": {},
   "source": [
    "### Downsampling"
   ]
  },
  {
   "cell_type": "markdown",
   "metadata": {},
   "source": [
    "fraction = 0.25, чтобы данные были сбалансированы"
   ]
  },
  {
   "cell_type": "code",
   "execution_count": 37,
   "metadata": {},
   "outputs": [],
   "source": [
    "def downsampling(features, target, fraction):\n",
    "    features_zeros = features[target == 0]\n",
    "    features_ones = features[target == 1]\n",
    "    target_zeros = target[target == 0]\n",
    "    target_ones = target[target == 1]\n",
    "    features_down = pd.concat([features_zeros] + [features_ones.sample(frac=fraction, random_state=12345)])\n",
    "    target_down = pd.concat([target_zeros] + [target_ones.sample(frac=fraction, random_state=12345)])\n",
    "    \n",
    "    features_down, target_down = shuffle(features_down, target_down, random_state=12345)\n",
    "    return features_down, target_down\n",
    "                            "
   ]
  },
  {
   "cell_type": "code",
   "execution_count": 38,
   "metadata": {},
   "outputs": [],
   "source": [
    "features_train_down, target_train_down = downsampling(features_train, target_train, 0.25)"
   ]
  },
  {
   "cell_type": "code",
   "execution_count": 39,
   "metadata": {},
   "outputs": [
    {
     "name": "stdout",
     "output_type": "stream",
     "text": [
      "ROC-AUC: 0.750740991658551\n",
      "Accuracy: 0.7925\n",
      "Precision: 0.6153846153846154\n",
      "Recall: 0.019138755980861243\n",
      "f1: 0.037122969837587005\n"
     ]
    }
   ],
   "source": [
    "model = LogisticRegression(solver='liblinear')\n",
    "model.fit(features_train_down, target_train_down)\n",
    "prediction = model.predict(features_valid)\n",
    "probabilities = model.predict_proba(features_valid)\n",
    "        \n",
    "print('ROC-AUC:', roc_auc_score(target_valid, probabilities[:, 1]))  \n",
    "print('Accuracy:', accuracy_score(target_valid, prediction))\n",
    "print('Precision:', precision_score(target_valid, prediction))\n",
    "print('Recall:', recall_score(target_valid, prediction))\n",
    "print('f1:', f1_score(target_valid, prediction))"
   ]
  },
  {
   "cell_type": "markdown",
   "metadata": {},
   "source": [
    "Логистическая регрессия по downsampling показала худший результат по параметру f1, что говорит о ненадёжности модели. Метрика roc_auc также упала."
   ]
  },
  {
   "cell_type": "code",
   "execution_count": 40,
   "metadata": {},
   "outputs": [
    {
     "name": "stdout",
     "output_type": "stream",
     "text": [
      "ROC-AUC: 0.7564428468597076\n",
      "Accuracy: 0.8325\n",
      "Depth: 4\n",
      "Precision: 0.8738738738738738\n",
      "Recall: 0.23205741626794257\n",
      "f1: 0.3667296786389414\n"
     ]
    }
   ],
   "source": [
    "best_accuracy = 0\n",
    "for depth in range(1, 20, 1):\n",
    "    model = DecisionTreeClassifier(random_state=12345, max_depth=depth)\n",
    "    model.fit(features_train_down, target_train_down)\n",
    "    prediction = model.predict(features_valid)\n",
    "    accuracy = accuracy_score(target_valid, prediction)\n",
    "    if accuracy > best_accuracy:\n",
    "        best_accuracy = accuracy\n",
    "        best_depth = depth\n",
    "        recall = recall_score(target_valid, prediction)\n",
    "        precision = precision_score(target_valid, prediction)\n",
    "        f1 = f1_score(target_valid, prediction)\n",
    "        probabilities = model.predict_proba(features_valid)\n",
    "        \n",
    "print('ROC-AUC:', roc_auc_score(target_valid, probabilities[:, 1]))  \n",
    "print('Accuracy:', best_accuracy)\n",
    "print('Depth:', best_depth)\n",
    "print('Precision:', precision)\n",
    "print('Recall:', recall)\n",
    "print('f1:', f1)  "
   ]
  },
  {
   "cell_type": "markdown",
   "metadata": {},
   "source": [
    "Модель дерева показала по downsampling результаты хуже чем по upsampling."
   ]
  },
  {
   "cell_type": "code",
   "execution_count": 41,
   "metadata": {},
   "outputs": [
    {
     "name": "stdout",
     "output_type": "stream",
     "text": [
      "ROC-AUC: 0.8055441298338364\n",
      "Accuracy: 0.835\n",
      "Depth: 15\n",
      "Estimators: 11\n",
      "Precision: 0.9\n",
      "Recall: 0.23684210526315788\n",
      "f1: 0.375\n"
     ]
    }
   ],
   "source": [
    "best_accuracy = 0\n",
    "for depth in range(1, 20, 1):\n",
    "    for est in range(1, 100, 10):\n",
    "        model = RandomForestClassifier(max_depth=depth, n_estimators=est, random_state=12345)\n",
    "        model.fit(features_train_down, target_train_down)\n",
    "        prediction = model.predict(features_valid)\n",
    "        accuracy = accuracy_score(target_valid, prediction)\n",
    "        if accuracy > best_accuracy:\n",
    "            best_accuracy = accuracy\n",
    "            best_depth = depth\n",
    "            recall = recall_score(target_valid, prediction)\n",
    "            precision = precision_score(target_valid, prediction)\n",
    "            f1 = f1_score(target_valid, prediction)\n",
    "            best_est = est\n",
    "            probabilities = model.predict_proba(features_valid)\n",
    "        \n",
    "print('ROC-AUC:', roc_auc_score(target_valid, probabilities[:, 1]))  \n",
    "print('Accuracy:', best_accuracy)\n",
    "print('Depth:', best_depth)\n",
    "print('Estimators:', best_est)\n",
    "print('Precision:', precision)\n",
    "print('Recall:', recall)\n",
    "print('f1:', f1) "
   ]
  },
  {
   "cell_type": "markdown",
   "metadata": {},
   "source": [
    "Модель случайного леса показала по downsampling результаты хуже чем по upsampling. Таким образом, наиболее эффективна модель случайного леса с гиперпараметрами: Depth: 17, Estimators: 91"
   ]
  },
  {
   "cell_type": "markdown",
   "metadata": {},
   "source": [
    "**Выводы**"
   ]
  },
  {
   "cell_type": "markdown",
   "metadata": {},
   "source": [
    "- На сбалансированных данных на модели логистической регрессии точность упала, но охват увеличился, показатель f1 тоже увеличился. А вот правильность общих ответов уменьшилась.\n",
    "- Модель случайного дерева на сбалансированных данных показала результаты лучше чем без upsampling. Модель является качественной и надёжной.\n",
    "- Модель случайного леса на сбалансированных данных (методом upsampling) показала прогресс по всем метрикам. Таким образом, до результатов моделей по downsampling наиболее эффективна модель случайного леса с гиперпараметрами: Depth: 18, Estimators: 71\n",
    "- Логистическая регрессия показала худший результат по параметру f1 при downsampling, что говорит о ненадёжности модели.\n",
    "- Модель дерева показала по downsampling результаты хуже чем по upsampling.\n",
    "- Модель случайного леса показала по downsampling результаты хуже чем по upsampling. Таким образом, наиболее эффективна модель случайного леса с гиперпараметрами: Depth: 18, Estimators: 71\n"
   ]
  },
  {
   "cell_type": "markdown",
   "metadata": {},
   "source": [
    "## Тестирование модели"
   ]
  },
  {
   "cell_type": "code",
   "execution_count": 42,
   "metadata": {},
   "outputs": [
    {
     "name": "stdout",
     "output_type": "stream",
     "text": [
      "Accuracy: 0.84\n",
      "Precision: 0.6467236467236467\n",
      "Recall: 0.5366430260047281\n",
      "f1: 0.58656330749354\n"
     ]
    }
   ],
   "source": [
    "model = RandomForestClassifier(max_depth=17, n_estimators=91, random_state=12345)\n",
    "model.fit(features_train_up, target_train_up)\n",
    "predictions = model.predict(features_test)\n",
    "\n",
    "print('Accuracy:', accuracy_score(target_test, predictions))\n",
    "print('Precision:', precision_score(target_test, predictions))\n",
    "print('Recall:', recall_score(target_test, predictions))\n",
    "print('f1:', f1_score(target_test, predictions)) "
   ]
  },
  {
   "cell_type": "markdown",
   "metadata": {},
   "source": [
    "Целевой показатель f1 на тестовой выборке достигнут"
   ]
  },
  {
   "cell_type": "markdown",
   "metadata": {},
   "source": [
    "PR - кривая"
   ]
  },
  {
   "cell_type": "code",
   "execution_count": 43,
   "metadata": {},
   "outputs": [
    {
     "data": {
      "text/plain": [
       "array([[0.95604396, 0.04395604],\n",
       "       [0.55292502, 0.44707498],\n",
       "       [0.97459589, 0.02540411],\n",
       "       ...,\n",
       "       [0.98759305, 0.01240695],\n",
       "       [0.84615385, 0.15384615],\n",
       "       [0.68294982, 0.31705018]])"
      ]
     },
     "execution_count": 43,
     "metadata": {},
     "output_type": "execute_result"
    }
   ],
   "source": [
    "probabilities = model.predict_proba(features_test)\n",
    "probabilities"
   ]
  },
  {
   "cell_type": "code",
   "execution_count": 44,
   "metadata": {},
   "outputs": [
    {
     "data": {
      "image/png": "[encoded data removed]",
      "text/plain": [
       "<Figure size 432x288 with 1 Axes>"
      ]
     },
     "metadata": {
      "needs_background": "light"
     },
     "output_type": "display_data"
    }
   ],
   "source": [
    "precision, recall, thresholds = precision_recall_curve(target_test, probabilities[:, 1])\n",
    "plt.figure()\n",
    "plt.step(recall, precision, where='post')\n",
    "plt.xlabel('Recall')\n",
    "plt.ylabel('Precision')\n",
    "plt.xlim([0, 1])\n",
    "plt.ylim([0, 1])\n",
    "plt.title('PR')\n",
    "plt.show()"
   ]
  },
  {
   "cell_type": "markdown",
   "metadata": {},
   "source": [
    "По графику PR - модель качественная."
   ]
  },
  {
   "cell_type": "markdown",
   "metadata": {},
   "source": [
    "**Исследуем метрику auc_roc**"
   ]
  },
  {
   "cell_type": "code",
   "execution_count": 45,
   "metadata": {},
   "outputs": [
    {
     "data": {
      "image/png": "[encoded data removed]",
      "text/plain": [
       "<Figure size 432x288 with 1 Axes>"
      ]
     },
     "metadata": {
      "needs_background": "light"
     },
     "output_type": "display_data"
    }
   ],
   "source": [
    "fpr, tpr, thresholds = roc_curve(target_test, probabilities[:, 1])\n",
    "plt.figure()\n",
    "plt.step(fpr, tpr, where='post')\n",
    "plt.plot([0, 1], [0, 1])\n",
    "plt.xlabel('False positive rate')\n",
    "plt.ylabel('True positive rate')\n",
    "plt.xlim([0, 1])\n",
    "plt.ylim([0, 1])\n",
    "plt.title('ROC')\n",
    "plt.show()"
   ]
  },
  {
   "cell_type": "markdown",
   "metadata": {},
   "source": [
    "По кривой ошибок ROC можно сделать вывод, полученная модель обладает высоким качеством и лучше случайного классификатора."
   ]
  },
  {
   "cell_type": "code",
   "execution_count": 46,
   "metadata": {},
   "outputs": [
    {
     "data": {
      "text/plain": [
       "0.8446184888864904"
      ]
     },
     "execution_count": 46,
     "metadata": {},
     "output_type": "execute_result"
    }
   ],
   "source": [
    "auc_roc = roc_auc_score(target_test, probabilities[:, 1])\n",
    "auc_roc"
   ]
  },
  {
   "cell_type": "markdown",
   "metadata": {},
   "source": [
    "auc_roc > 0.5 следовательно модель качественная."
   ]
  },
  {
   "cell_type": "markdown",
   "metadata": {},
   "source": [
    "**Выводы**"
   ]
  },
  {
   "cell_type": "markdown",
   "metadata": {},
   "source": [
    "- Целевой показатель f1 на тестовой выборке достигнут\n",
    "- По графику PR - модель качественная.\n",
    "- По кривой ошибок ROC можно сделать вывод, полученная модель обладает высоким качеством и лучше случайного классификатора.\n",
    "- auc_roc > 0.5 следовательно модель качественная."
   ]
  },
  {
   "cell_type": "markdown",
   "metadata": {},
   "source": [
    "## Общие выводы + Чек-лист готовности проекта"
   ]
  },
  {
   "cell_type": "markdown",
   "metadata": {},
   "source": [
    "1. Название столбцов приведены к единому виду\n",
    "2.\tПоскольку среди многих пропусков в столбце со сроком пользования банковскими услугами также присутствуют пропуски в столбце с балансом, можно предположить, что клиенты новые, но система их пока не успела отобразить это в данных. Поскольку данное суждение не является абсолютно точным, то для повышения качества модели лучше удалить строки с пропуском.\n",
    "3.\tДля поиска дубликатов все значения таблицы были приведены к нижнему регистру. Дубликатов не обнаружен.\n",
    "3.\tПоскольку количество имён огромное количество, то выявление связи с именем будет неточным. И поскольку множество этих имён встречается по одному разу, то и upsampling может принять ответы являющиеся исключением за правило. В связи с тем, что эти данные нам больше не понядобятся можем их удалить. Это же касается и столбцов с номером строки и customer_id. Удалим их.\n",
    "4.\tДля дальнейшего построения моеделей необходимо преобразовать категориальные столбцы в числовые. Поскольку разные значения одного столбца имеют одинаковое значение, то для преобразования признаков воспользуемся техникой ohe.\n",
    "5. Данные резделены на тренировочную, валидационную и тестовую в пропорции 60% - 20% - 20%.\n",
    "6.\tДанные стандартизированы. Все они имеют одинаковый разброс\n",
    "7. Модель случайного леса на сбалансированных данных (методом upsampling) показала прогресс по всем метрикам. Таким образом, до результатов моделей по downsampling наиболее эффективна модель случайного леса с гиперпараметрами: Depth: 18, Estimators: 71\n",
    "8. Модель случайного леса показала по downsampling результаты хуже чем по upsampling. Таким образом, наиболее эффективна модель случайного леса с гиперпараметрами: Depth: 18, Estimators: 71\n",
    "9. Целевой показатель f1 на тестовой выборке достигнут\n",
    "10. По графику PR - модель качественная.\n",
    "11. По кривой ошибок ROC можно сделать вывод, полученная модель обладает высоким качеством и лучше случайного классификатора.\n",
    "12. auc_roc > 0.5 следовательно модель качественная.\n"
   ]
  }
 ],
 "metadata": {
  "ExecuteTimeLog": [
   {
    "duration": 1327,
    "start_time": "2022-03-12T18:27:22.171Z"
   },
   {
    "duration": 3,
    "start_time": "2022-03-12T18:27:42.718Z"
   },
   {
    "duration": 32,
    "start_time": "2022-03-12T19:11:18.975Z"
   },
   {
    "duration": 28,
    "start_time": "2022-03-12T19:12:32.067Z"
   },
   {
    "duration": 19,
    "start_time": "2022-03-12T19:13:17.848Z"
   },
   {
    "duration": 177,
    "start_time": "2022-03-12T19:13:50.458Z"
   },
   {
    "duration": 13,
    "start_time": "2022-03-12T19:13:54.526Z"
   },
   {
    "duration": 4,
    "start_time": "2022-03-12T19:18:32.546Z"
   },
   {
    "duration": 175,
    "start_time": "2022-03-12T19:18:43.841Z"
   },
   {
    "duration": 5,
    "start_time": "2022-03-12T19:18:47.794Z"
   },
   {
    "duration": 5,
    "start_time": "2022-03-12T19:19:18.054Z"
   },
   {
    "duration": 3,
    "start_time": "2022-03-12T19:20:15.218Z"
   },
   {
    "duration": 35,
    "start_time": "2022-03-12T19:25:46.248Z"
   },
   {
    "duration": 11,
    "start_time": "2022-03-12T19:25:54.214Z"
   },
   {
    "duration": 12,
    "start_time": "2022-03-12T19:29:47.753Z"
   },
   {
    "duration": 177,
    "start_time": "2022-03-12T19:31:21.926Z"
   },
   {
    "duration": 170,
    "start_time": "2022-03-12T19:31:26.137Z"
   },
   {
    "duration": 5152,
    "start_time": "2022-03-12T19:31:45.222Z"
   },
   {
    "duration": 196,
    "start_time": "2022-03-12T19:32:03.483Z"
   },
   {
    "duration": 8,
    "start_time": "2022-03-12T19:32:19.863Z"
   },
   {
    "duration": 9,
    "start_time": "2022-03-12T19:32:37.249Z"
   },
   {
    "duration": 167,
    "start_time": "2022-03-12T19:33:28.766Z"
   },
   {
    "duration": 13,
    "start_time": "2022-03-12T19:33:39.771Z"
   },
   {
    "duration": 173,
    "start_time": "2022-03-12T19:36:10.955Z"
   },
   {
    "duration": 7,
    "start_time": "2022-03-12T19:36:15.248Z"
   },
   {
    "duration": 7,
    "start_time": "2022-03-12T19:37:34.236Z"
   },
   {
    "duration": 16,
    "start_time": "2022-03-12T19:40:01.737Z"
   },
   {
    "duration": 17,
    "start_time": "2022-03-12T19:46:44.706Z"
   },
   {
    "duration": 3,
    "start_time": "2022-03-12T19:54:09.636Z"
   },
   {
    "duration": 8,
    "start_time": "2022-03-12T19:54:30.734Z"
   },
   {
    "duration": 10,
    "start_time": "2022-03-12T19:54:42.874Z"
   },
   {
    "duration": 184,
    "start_time": "2022-03-12T19:55:46.657Z"
   },
   {
    "duration": 14,
    "start_time": "2022-03-12T19:56:40.597Z"
   },
   {
    "duration": 1071,
    "start_time": "2022-03-12T19:56:53.829Z"
   },
   {
    "duration": 23,
    "start_time": "2022-03-12T19:56:54.902Z"
   },
   {
    "duration": 19,
    "start_time": "2022-03-12T19:56:54.927Z"
   },
   {
    "duration": 18,
    "start_time": "2022-03-12T19:56:54.947Z"
   },
   {
    "duration": 3,
    "start_time": "2022-03-12T19:56:54.966Z"
   },
   {
    "duration": 9,
    "start_time": "2022-03-12T19:56:54.971Z"
   },
   {
    "duration": 7,
    "start_time": "2022-03-12T19:56:54.981Z"
   },
   {
    "duration": 7,
    "start_time": "2022-03-12T19:56:54.990Z"
   },
   {
    "duration": 6,
    "start_time": "2022-03-12T19:56:54.999Z"
   },
   {
    "duration": 18,
    "start_time": "2022-03-12T19:56:55.006Z"
   },
   {
    "duration": 9,
    "start_time": "2022-03-12T19:56:55.025Z"
   },
   {
    "duration": 33,
    "start_time": "2022-03-12T19:56:55.036Z"
   },
   {
    "duration": 7,
    "start_time": "2022-03-12T19:56:55.071Z"
   },
   {
    "duration": 13,
    "start_time": "2022-03-12T19:56:55.080Z"
   },
   {
    "duration": 15,
    "start_time": "2022-03-12T19:56:55.095Z"
   },
   {
    "duration": 11,
    "start_time": "2022-03-12T19:56:55.111Z"
   },
   {
    "duration": 9,
    "start_time": "2022-03-12T19:56:55.123Z"
   },
   {
    "duration": 35,
    "start_time": "2022-03-12T19:56:55.133Z"
   },
   {
    "duration": 2,
    "start_time": "2022-03-12T19:56:55.170Z"
   },
   {
    "duration": 259,
    "start_time": "2022-03-12T19:57:41.157Z"
   },
   {
    "duration": 12,
    "start_time": "2022-03-12T19:57:48.661Z"
   },
   {
    "duration": 178,
    "start_time": "2022-03-12T20:41:15.271Z"
   },
   {
    "duration": 5,
    "start_time": "2022-03-12T20:41:23.095Z"
   },
   {
    "duration": 5,
    "start_time": "2022-03-12T20:46:12.985Z"
   },
   {
    "duration": 234,
    "start_time": "2022-03-12T20:47:40.232Z"
   },
   {
    "duration": 28,
    "start_time": "2022-03-12T20:47:48.002Z"
   },
   {
    "duration": 19,
    "start_time": "2022-03-12T20:48:15.173Z"
   },
   {
    "duration": 184,
    "start_time": "2022-03-12T20:49:01.719Z"
   },
   {
    "duration": 3,
    "start_time": "2022-03-12T20:49:19.406Z"
   },
   {
    "duration": 267,
    "start_time": "2022-03-12T21:11:00.204Z"
   },
   {
    "duration": 9,
    "start_time": "2022-03-12T21:11:35.297Z"
   },
   {
    "duration": 5,
    "start_time": "2022-03-12T21:15:55.479Z"
   },
   {
    "duration": 206,
    "start_time": "2022-03-12T21:21:28.278Z"
   },
   {
    "duration": 30,
    "start_time": "2022-03-12T21:21:35.218Z"
   },
   {
    "duration": 26,
    "start_time": "2022-03-12T21:22:27.307Z"
   },
   {
    "duration": 35,
    "start_time": "2022-03-12T21:23:11.527Z"
   },
   {
    "duration": 32,
    "start_time": "2022-03-12T21:23:34.469Z"
   },
   {
    "duration": 1073,
    "start_time": "2022-03-13T06:46:18.110Z"
   },
   {
    "duration": 31,
    "start_time": "2022-03-13T06:46:19.185Z"
   },
   {
    "duration": 21,
    "start_time": "2022-03-13T06:46:19.218Z"
   },
   {
    "duration": 9,
    "start_time": "2022-03-13T06:46:19.241Z"
   },
   {
    "duration": 4,
    "start_time": "2022-03-13T06:46:19.251Z"
   },
   {
    "duration": 7,
    "start_time": "2022-03-13T06:46:19.256Z"
   },
   {
    "duration": 13,
    "start_time": "2022-03-13T06:46:19.265Z"
   },
   {
    "duration": 10,
    "start_time": "2022-03-13T06:46:19.280Z"
   },
   {
    "duration": 6,
    "start_time": "2022-03-13T06:46:19.292Z"
   },
   {
    "duration": 44,
    "start_time": "2022-03-13T06:46:19.299Z"
   },
   {
    "duration": 7,
    "start_time": "2022-03-13T06:46:19.345Z"
   },
   {
    "duration": 7,
    "start_time": "2022-03-13T06:46:19.354Z"
   },
   {
    "duration": 8,
    "start_time": "2022-03-13T06:46:19.363Z"
   },
   {
    "duration": 12,
    "start_time": "2022-03-13T06:46:19.372Z"
   },
   {
    "duration": 14,
    "start_time": "2022-03-13T06:46:19.386Z"
   },
   {
    "duration": 39,
    "start_time": "2022-03-13T06:46:19.402Z"
   },
   {
    "duration": 12,
    "start_time": "2022-03-13T06:46:19.443Z"
   },
   {
    "duration": 8,
    "start_time": "2022-03-13T06:46:19.457Z"
   },
   {
    "duration": 10,
    "start_time": "2022-03-13T06:46:19.467Z"
   },
   {
    "duration": 4,
    "start_time": "2022-03-13T06:46:19.478Z"
   },
   {
    "duration": 5,
    "start_time": "2022-03-13T06:46:19.484Z"
   },
   {
    "duration": 56,
    "start_time": "2022-03-13T06:46:19.490Z"
   },
   {
    "duration": 7,
    "start_time": "2022-03-13T06:46:19.549Z"
   },
   {
    "duration": 3,
    "start_time": "2022-03-13T06:46:19.558Z"
   },
   {
    "duration": 41,
    "start_time": "2022-03-13T06:46:19.562Z"
   },
   {
    "duration": 32,
    "start_time": "2022-03-13T06:46:59.556Z"
   },
   {
    "duration": 11,
    "start_time": "2022-03-13T06:55:09.551Z"
   },
   {
    "duration": 305,
    "start_time": "2022-03-13T06:56:13.471Z"
   },
   {
    "duration": 139,
    "start_time": "2022-03-13T06:58:06.282Z"
   },
   {
    "duration": 153,
    "start_time": "2022-03-13T06:58:33.386Z"
   },
   {
    "duration": 153,
    "start_time": "2022-03-13T06:59:05.321Z"
   },
   {
    "duration": 1029,
    "start_time": "2022-03-13T06:59:39.651Z"
   },
   {
    "duration": 25,
    "start_time": "2022-03-13T06:59:40.682Z"
   },
   {
    "duration": 36,
    "start_time": "2022-03-13T06:59:40.709Z"
   },
   {
    "duration": 10,
    "start_time": "2022-03-13T06:59:40.747Z"
   },
   {
    "duration": 4,
    "start_time": "2022-03-13T06:59:40.758Z"
   },
   {
    "duration": 6,
    "start_time": "2022-03-13T06:59:40.763Z"
   },
   {
    "duration": 4,
    "start_time": "2022-03-13T06:59:40.770Z"
   },
   {
    "duration": 8,
    "start_time": "2022-03-13T06:59:40.776Z"
   },
   {
    "duration": 6,
    "start_time": "2022-03-13T06:59:40.786Z"
   },
   {
    "duration": 52,
    "start_time": "2022-03-13T06:59:40.793Z"
   },
   {
    "duration": 10,
    "start_time": "2022-03-13T06:59:40.847Z"
   },
   {
    "duration": 6,
    "start_time": "2022-03-13T06:59:40.859Z"
   },
   {
    "duration": 14,
    "start_time": "2022-03-13T06:59:40.867Z"
   },
   {
    "duration": 18,
    "start_time": "2022-03-13T06:59:40.883Z"
   },
   {
    "duration": 17,
    "start_time": "2022-03-13T06:59:40.902Z"
   },
   {
    "duration": 10,
    "start_time": "2022-03-13T06:59:40.921Z"
   },
   {
    "duration": 12,
    "start_time": "2022-03-13T06:59:40.945Z"
   },
   {
    "duration": 9,
    "start_time": "2022-03-13T06:59:40.959Z"
   },
   {
    "duration": 12,
    "start_time": "2022-03-13T06:59:40.970Z"
   },
   {
    "duration": 6,
    "start_time": "2022-03-13T06:59:40.984Z"
   },
   {
    "duration": 8,
    "start_time": "2022-03-13T06:59:40.991Z"
   },
   {
    "duration": 38,
    "start_time": "2022-03-13T06:59:41.000Z"
   },
   {
    "duration": 8,
    "start_time": "2022-03-13T06:59:41.051Z"
   },
   {
    "duration": 9,
    "start_time": "2022-03-13T06:59:41.061Z"
   },
   {
    "duration": 232,
    "start_time": "2022-03-13T06:59:41.072Z"
   },
   {
    "duration": 11,
    "start_time": "2022-03-13T07:00:33.884Z"
   },
   {
    "duration": 125,
    "start_time": "2022-03-13T07:36:51.602Z"
   },
   {
    "duration": 10,
    "start_time": "2022-03-13T07:37:11.908Z"
   },
   {
    "duration": 3,
    "start_time": "2022-03-13T07:37:12.773Z"
   },
   {
    "duration": 4,
    "start_time": "2022-03-13T07:37:27.052Z"
   },
   {
    "duration": 10,
    "start_time": "2022-03-13T07:37:27.951Z"
   },
   {
    "duration": 4,
    "start_time": "2022-03-13T07:55:04.335Z"
   },
   {
    "duration": 151,
    "start_time": "2022-03-13T07:59:54.179Z"
   },
   {
    "duration": 6,
    "start_time": "2022-03-13T08:00:51.621Z"
   },
   {
    "duration": 7,
    "start_time": "2022-03-13T08:01:05.057Z"
   },
   {
    "duration": 8,
    "start_time": "2022-03-13T08:01:47.181Z"
   },
   {
    "duration": 9,
    "start_time": "2022-03-13T08:01:56.850Z"
   },
   {
    "duration": 8,
    "start_time": "2022-03-13T08:02:06.308Z"
   },
   {
    "duration": 136,
    "start_time": "2022-03-13T08:07:00.230Z"
   },
   {
    "duration": 149,
    "start_time": "2022-03-13T08:07:36.388Z"
   },
   {
    "duration": 209,
    "start_time": "2022-03-13T08:08:13.933Z"
   },
   {
    "duration": 238,
    "start_time": "2022-03-13T08:10:30.311Z"
   },
   {
    "duration": 5,
    "start_time": "2022-03-13T08:11:45.167Z"
   },
   {
    "duration": 23,
    "start_time": "2022-03-13T08:11:55.089Z"
   },
   {
    "duration": 40,
    "start_time": "2022-03-13T08:12:11.399Z"
   },
   {
    "duration": 44,
    "start_time": "2022-03-13T08:12:27.294Z"
   },
   {
    "duration": 8,
    "start_time": "2022-03-13T08:14:32.601Z"
   },
   {
    "duration": 6,
    "start_time": "2022-03-13T08:20:53.504Z"
   },
   {
    "duration": 7,
    "start_time": "2022-03-13T08:20:56.469Z"
   },
   {
    "duration": 8,
    "start_time": "2022-03-13T08:20:56.718Z"
   },
   {
    "duration": 3394,
    "start_time": "2022-03-13T08:20:57.000Z"
   },
   {
    "duration": -415,
    "start_time": "2022-03-13T08:21:00.811Z"
   },
   {
    "duration": 1068,
    "start_time": "2022-03-13T08:21:07.025Z"
   },
   {
    "duration": 24,
    "start_time": "2022-03-13T08:21:08.095Z"
   },
   {
    "duration": 27,
    "start_time": "2022-03-13T08:21:08.122Z"
   },
   {
    "duration": 19,
    "start_time": "2022-03-13T08:21:08.152Z"
   },
   {
    "duration": 5,
    "start_time": "2022-03-13T08:21:08.173Z"
   },
   {
    "duration": 6,
    "start_time": "2022-03-13T08:21:08.180Z"
   },
   {
    "duration": 5,
    "start_time": "2022-03-13T08:21:08.188Z"
   },
   {
    "duration": 10,
    "start_time": "2022-03-13T08:21:08.196Z"
   },
   {
    "duration": 31,
    "start_time": "2022-03-13T08:21:08.208Z"
   },
   {
    "duration": 23,
    "start_time": "2022-03-13T08:21:08.242Z"
   },
   {
    "duration": 13,
    "start_time": "2022-03-13T08:21:08.267Z"
   },
   {
    "duration": 17,
    "start_time": "2022-03-13T08:21:08.282Z"
   },
   {
    "duration": 9,
    "start_time": "2022-03-13T08:21:08.301Z"
   },
   {
    "duration": 34,
    "start_time": "2022-03-13T08:21:08.312Z"
   },
   {
    "duration": 14,
    "start_time": "2022-03-13T08:21:08.348Z"
   },
   {
    "duration": 16,
    "start_time": "2022-03-13T08:21:08.364Z"
   },
   {
    "duration": 11,
    "start_time": "2022-03-13T08:21:08.382Z"
   },
   {
    "duration": 8,
    "start_time": "2022-03-13T08:21:08.395Z"
   },
   {
    "duration": 41,
    "start_time": "2022-03-13T08:21:08.404Z"
   },
   {
    "duration": 8,
    "start_time": "2022-03-13T08:21:08.447Z"
   },
   {
    "duration": 14,
    "start_time": "2022-03-13T08:21:08.458Z"
   },
   {
    "duration": 25,
    "start_time": "2022-03-13T08:21:08.474Z"
   },
   {
    "duration": 10,
    "start_time": "2022-03-13T08:21:08.502Z"
   },
   {
    "duration": 3,
    "start_time": "2022-03-13T08:21:08.514Z"
   },
   {
    "duration": 12,
    "start_time": "2022-03-13T08:21:08.539Z"
   },
   {
    "duration": 21,
    "start_time": "2022-03-13T08:21:08.553Z"
   },
   {
    "duration": 8,
    "start_time": "2022-03-13T08:21:08.575Z"
   },
   {
    "duration": 7,
    "start_time": "2022-03-13T08:21:08.585Z"
   },
   {
    "duration": 52,
    "start_time": "2022-03-13T08:21:08.593Z"
   },
   {
    "duration": 3,
    "start_time": "2022-03-13T08:26:55.963Z"
   },
   {
    "duration": 317,
    "start_time": "2022-03-13T08:32:18.546Z"
   },
   {
    "duration": 333,
    "start_time": "2022-03-13T08:34:27.393Z"
   },
   {
    "duration": 4,
    "start_time": "2022-03-13T08:36:47.462Z"
   },
   {
    "duration": 332,
    "start_time": "2022-03-13T08:36:55.787Z"
   },
   {
    "duration": 42371,
    "start_time": "2022-03-13T09:15:33.151Z"
   },
   {
    "duration": 4,
    "start_time": "2022-03-13T10:02:52.378Z"
   },
   {
    "duration": 3,
    "start_time": "2022-03-13T10:04:41.582Z"
   },
   {
    "duration": 153,
    "start_time": "2022-03-13T10:06:11.834Z"
   },
   {
    "duration": 407,
    "start_time": "2022-03-13T10:06:20.462Z"
   },
   {
    "duration": 135,
    "start_time": "2022-03-13T10:13:58.389Z"
   },
   {
    "duration": 131,
    "start_time": "2022-03-13T10:14:12.746Z"
   },
   {
    "duration": 478,
    "start_time": "2022-03-13T10:14:26.439Z"
   },
   {
    "duration": 1013,
    "start_time": "2022-03-13T10:14:35.200Z"
   },
   {
    "duration": 39,
    "start_time": "2022-03-13T10:14:36.215Z"
   },
   {
    "duration": 23,
    "start_time": "2022-03-13T10:14:36.256Z"
   },
   {
    "duration": 11,
    "start_time": "2022-03-13T10:14:36.281Z"
   },
   {
    "duration": 3,
    "start_time": "2022-03-13T10:14:36.294Z"
   },
   {
    "duration": 7,
    "start_time": "2022-03-13T10:14:36.298Z"
   },
   {
    "duration": 7,
    "start_time": "2022-03-13T10:14:36.307Z"
   },
   {
    "duration": 29,
    "start_time": "2022-03-13T10:14:36.317Z"
   },
   {
    "duration": 12,
    "start_time": "2022-03-13T10:14:36.349Z"
   },
   {
    "duration": 20,
    "start_time": "2022-03-13T10:14:36.363Z"
   },
   {
    "duration": 6,
    "start_time": "2022-03-13T10:14:36.384Z"
   },
   {
    "duration": 7,
    "start_time": "2022-03-13T10:14:36.392Z"
   },
   {
    "duration": 41,
    "start_time": "2022-03-13T10:14:36.400Z"
   },
   {
    "duration": 14,
    "start_time": "2022-03-13T10:14:36.444Z"
   },
   {
    "duration": 18,
    "start_time": "2022-03-13T10:14:36.460Z"
   },
   {
    "duration": 10,
    "start_time": "2022-03-13T10:14:36.479Z"
   },
   {
    "duration": 16,
    "start_time": "2022-03-13T10:14:36.491Z"
   },
   {
    "duration": 32,
    "start_time": "2022-03-13T10:14:36.509Z"
   },
   {
    "duration": 26,
    "start_time": "2022-03-13T10:14:36.543Z"
   },
   {
    "duration": 5,
    "start_time": "2022-03-13T10:14:36.570Z"
   },
   {
    "duration": 11,
    "start_time": "2022-03-13T10:14:36.577Z"
   },
   {
    "duration": 44,
    "start_time": "2022-03-13T10:14:36.590Z"
   },
   {
    "duration": 16,
    "start_time": "2022-03-13T10:14:36.638Z"
   },
   {
    "duration": 10,
    "start_time": "2022-03-13T10:14:36.657Z"
   },
   {
    "duration": 7,
    "start_time": "2022-03-13T10:14:36.669Z"
   },
   {
    "duration": 328,
    "start_time": "2022-03-13T10:14:36.677Z"
   },
   {
    "duration": -377,
    "start_time": "2022-03-13T10:14:37.384Z"
   },
   {
    "duration": -378,
    "start_time": "2022-03-13T10:14:37.386Z"
   },
   {
    "duration": -379,
    "start_time": "2022-03-13T10:14:37.388Z"
   },
   {
    "duration": -381,
    "start_time": "2022-03-13T10:14:37.391Z"
   },
   {
    "duration": -382,
    "start_time": "2022-03-13T10:14:37.393Z"
   },
   {
    "duration": -383,
    "start_time": "2022-03-13T10:14:37.395Z"
   },
   {
    "duration": -383,
    "start_time": "2022-03-13T10:14:37.397Z"
   },
   {
    "duration": 11,
    "start_time": "2022-03-13T10:14:52.813Z"
   },
   {
    "duration": 8,
    "start_time": "2022-03-13T10:14:57.960Z"
   },
   {
    "duration": 14,
    "start_time": "2022-03-13T10:14:58.234Z"
   },
   {
    "duration": 34,
    "start_time": "2022-03-13T10:14:58.605Z"
   },
   {
    "duration": 351,
    "start_time": "2022-03-13T10:14:59.282Z"
   },
   {
    "duration": 42543,
    "start_time": "2022-03-13T10:15:00.026Z"
   },
   {
    "duration": 4,
    "start_time": "2022-03-13T10:15:42.571Z"
   },
   {
    "duration": 369,
    "start_time": "2022-03-13T10:15:42.577Z"
   },
   {
    "duration": 9,
    "start_time": "2022-03-13T10:20:23.575Z"
   },
   {
    "duration": 29,
    "start_time": "2022-03-13T10:20:30.048Z"
   },
   {
    "duration": 21,
    "start_time": "2022-03-13T10:20:54.639Z"
   },
   {
    "duration": 272,
    "start_time": "2022-03-13T10:21:03.160Z"
   },
   {
    "duration": 1061,
    "start_time": "2022-03-13T10:25:18.233Z"
   },
   {
    "duration": 25,
    "start_time": "2022-03-13T10:25:19.296Z"
   },
   {
    "duration": 54,
    "start_time": "2022-03-13T10:25:19.325Z"
   },
   {
    "duration": 14,
    "start_time": "2022-03-13T10:25:19.381Z"
   },
   {
    "duration": 4,
    "start_time": "2022-03-13T10:25:19.397Z"
   },
   {
    "duration": 7,
    "start_time": "2022-03-13T10:25:19.402Z"
   },
   {
    "duration": 6,
    "start_time": "2022-03-13T10:25:19.411Z"
   },
   {
    "duration": 12,
    "start_time": "2022-03-13T10:25:19.419Z"
   },
   {
    "duration": 9,
    "start_time": "2022-03-13T10:25:19.433Z"
   },
   {
    "duration": 38,
    "start_time": "2022-03-13T10:25:19.444Z"
   },
   {
    "duration": 7,
    "start_time": "2022-03-13T10:25:19.484Z"
   },
   {
    "duration": 7,
    "start_time": "2022-03-13T10:25:19.493Z"
   },
   {
    "duration": 8,
    "start_time": "2022-03-13T10:25:19.502Z"
   },
   {
    "duration": 35,
    "start_time": "2022-03-13T10:25:19.512Z"
   },
   {
    "duration": 17,
    "start_time": "2022-03-13T10:25:19.550Z"
   },
   {
    "duration": 9,
    "start_time": "2022-03-13T10:25:19.569Z"
   },
   {
    "duration": 13,
    "start_time": "2022-03-13T10:25:19.580Z"
   },
   {
    "duration": 14,
    "start_time": "2022-03-13T10:25:19.594Z"
   },
   {
    "duration": 31,
    "start_time": "2022-03-13T10:25:19.609Z"
   },
   {
    "duration": 8,
    "start_time": "2022-03-13T10:25:19.642Z"
   },
   {
    "duration": 11,
    "start_time": "2022-03-13T10:25:19.653Z"
   },
   {
    "duration": 25,
    "start_time": "2022-03-13T10:25:19.666Z"
   },
   {
    "duration": 9,
    "start_time": "2022-03-13T10:25:19.695Z"
   },
   {
    "duration": 3,
    "start_time": "2022-03-13T10:25:19.706Z"
   },
   {
    "duration": 32,
    "start_time": "2022-03-13T10:25:19.711Z"
   },
   {
    "duration": 31,
    "start_time": "2022-03-13T10:25:19.745Z"
   },
   {
    "duration": 8,
    "start_time": "2022-03-13T10:25:19.777Z"
   },
   {
    "duration": 11,
    "start_time": "2022-03-13T10:25:19.787Z"
   },
   {
    "duration": 48,
    "start_time": "2022-03-13T10:25:19.800Z"
   },
   {
    "duration": 493,
    "start_time": "2022-03-13T10:25:19.850Z"
   },
   {
    "duration": 43905,
    "start_time": "2022-03-13T10:25:20.346Z"
   },
   {
    "duration": 4,
    "start_time": "2022-03-13T10:26:04.254Z"
   },
   {
    "duration": 375,
    "start_time": "2022-03-13T10:26:04.259Z"
   },
   {
    "duration": 1346,
    "start_time": "2022-03-13T12:13:20.740Z"
   },
   {
    "duration": 38,
    "start_time": "2022-03-13T12:13:22.089Z"
   },
   {
    "duration": 35,
    "start_time": "2022-03-13T12:13:22.130Z"
   },
   {
    "duration": 12,
    "start_time": "2022-03-13T12:13:22.167Z"
   },
   {
    "duration": 6,
    "start_time": "2022-03-13T12:13:22.181Z"
   },
   {
    "duration": 9,
    "start_time": "2022-03-13T12:13:22.189Z"
   },
   {
    "duration": 50,
    "start_time": "2022-03-13T12:13:22.201Z"
   },
   {
    "duration": 9,
    "start_time": "2022-03-13T12:13:22.255Z"
   },
   {
    "duration": 9,
    "start_time": "2022-03-13T12:13:22.266Z"
   },
   {
    "duration": 28,
    "start_time": "2022-03-13T12:13:22.277Z"
   },
   {
    "duration": 46,
    "start_time": "2022-03-13T12:13:22.307Z"
   },
   {
    "duration": 10,
    "start_time": "2022-03-13T12:13:22.355Z"
   },
   {
    "duration": 12,
    "start_time": "2022-03-13T12:13:22.368Z"
   },
   {
    "duration": 20,
    "start_time": "2022-03-13T12:13:22.383Z"
   },
   {
    "duration": 59,
    "start_time": "2022-03-13T12:13:22.405Z"
   },
   {
    "duration": 13,
    "start_time": "2022-03-13T12:13:22.466Z"
   },
   {
    "duration": 18,
    "start_time": "2022-03-13T12:13:22.482Z"
   },
   {
    "duration": 9,
    "start_time": "2022-03-13T12:13:22.503Z"
   },
   {
    "duration": 43,
    "start_time": "2022-03-13T12:13:22.515Z"
   },
   {
    "duration": 6,
    "start_time": "2022-03-13T12:13:22.561Z"
   },
   {
    "duration": 3,
    "start_time": "2022-03-13T12:13:22.570Z"
   },
   {
    "duration": 34,
    "start_time": "2022-03-13T12:13:22.576Z"
   },
   {
    "duration": 14,
    "start_time": "2022-03-13T12:13:22.650Z"
   },
   {
    "duration": 4,
    "start_time": "2022-03-13T12:13:22.667Z"
   },
   {
    "duration": 6,
    "start_time": "2022-03-13T12:13:22.674Z"
   },
   {
    "duration": 71,
    "start_time": "2022-03-13T12:13:22.682Z"
   },
   {
    "duration": 13,
    "start_time": "2022-03-13T12:13:22.756Z"
   },
   {
    "duration": 15,
    "start_time": "2022-03-13T12:13:22.772Z"
   },
   {
    "duration": 170,
    "start_time": "2022-03-13T12:13:22.790Z"
   },
   {
    "duration": 562,
    "start_time": "2022-03-13T12:13:22.963Z"
   },
   {
    "duration": 60123,
    "start_time": "2022-03-13T12:13:23.528Z"
   },
   {
    "duration": 5,
    "start_time": "2022-03-13T12:14:23.653Z"
   },
   {
    "duration": 750,
    "start_time": "2022-03-13T12:14:23.661Z"
   },
   {
    "duration": 7,
    "start_time": "2022-03-13T12:18:14.317Z"
   },
   {
    "duration": 9,
    "start_time": "2022-03-13T12:18:34.295Z"
   },
   {
    "duration": 7,
    "start_time": "2022-03-13T12:27:49.322Z"
   },
   {
    "duration": 4,
    "start_time": "2022-03-13T12:28:05.577Z"
   },
   {
    "duration": 13,
    "start_time": "2022-03-13T12:28:07.124Z"
   },
   {
    "duration": 76,
    "start_time": "2022-03-13T12:35:00.077Z"
   },
   {
    "duration": 494,
    "start_time": "2022-03-13T12:38:28.635Z"
   },
   {
    "duration": 648,
    "start_time": "2022-03-13T12:38:48.899Z"
   },
   {
    "duration": 84287,
    "start_time": "2022-03-13T12:40:47.993Z"
   },
   {
    "duration": 6,
    "start_time": "2022-03-13T13:17:32.636Z"
   },
   {
    "duration": 13,
    "start_time": "2022-03-13T13:19:25.259Z"
   },
   {
    "duration": 56,
    "start_time": "2022-03-13T13:19:54.396Z"
   },
   {
    "duration": 680,
    "start_time": "2022-03-13T13:22:50.077Z"
   },
   {
    "duration": 400,
    "start_time": "2022-03-13T13:23:12.136Z"
   },
   {
    "duration": 49121,
    "start_time": "2022-03-13T13:24:34.308Z"
   },
   {
    "duration": 1165,
    "start_time": "2022-03-13T13:40:18.808Z"
   },
   {
    "duration": 1124,
    "start_time": "2022-03-13T13:40:37.846Z"
   },
   {
    "duration": 1179,
    "start_time": "2022-03-13T13:41:09.460Z"
   },
   {
    "duration": 1404,
    "start_time": "2022-03-13T13:41:29.301Z"
   },
   {
    "duration": 1310,
    "start_time": "2022-03-13T13:41:37.293Z"
   },
   {
    "duration": 423,
    "start_time": "2022-03-13T13:50:15.804Z"
   },
   {
    "duration": 42,
    "start_time": "2022-03-13T13:50:28.944Z"
   },
   {
    "duration": 42,
    "start_time": "2022-03-13T13:51:17.752Z"
   },
   {
    "duration": 514,
    "start_time": "2022-03-13T13:53:46.230Z"
   },
   {
    "duration": 5,
    "start_time": "2022-03-13T13:54:06.644Z"
   },
   {
    "duration": 311,
    "start_time": "2022-03-13T13:54:16.856Z"
   },
   {
    "duration": 310,
    "start_time": "2022-03-13T13:55:28.871Z"
   },
   {
    "duration": 342,
    "start_time": "2022-03-13T13:56:06.976Z"
   },
   {
    "duration": 114,
    "start_time": "2022-03-13T13:56:17.995Z"
   },
   {
    "duration": 252,
    "start_time": "2022-03-13T13:56:27.554Z"
   },
   {
    "duration": 255,
    "start_time": "2022-03-13T14:04:11.883Z"
   },
   {
    "duration": 267,
    "start_time": "2022-03-13T14:05:42.313Z"
   },
   {
    "duration": 303,
    "start_time": "2022-03-13T14:07:47.491Z"
   },
   {
    "duration": 6,
    "start_time": "2022-03-13T14:08:08.557Z"
   },
   {
    "duration": 7,
    "start_time": "2022-03-13T14:08:14.340Z"
   },
   {
    "duration": 8,
    "start_time": "2022-03-13T14:08:21.687Z"
   },
   {
    "duration": 327,
    "start_time": "2022-03-13T14:09:01.382Z"
   },
   {
    "duration": 255,
    "start_time": "2022-03-13T14:09:17.546Z"
   },
   {
    "duration": 1517,
    "start_time": "2022-03-13T14:12:34.092Z"
   },
   {
    "duration": 31,
    "start_time": "2022-03-13T14:12:35.612Z"
   },
   {
    "duration": 30,
    "start_time": "2022-03-13T14:12:35.646Z"
   },
   {
    "duration": 14,
    "start_time": "2022-03-13T14:12:35.680Z"
   },
   {
    "duration": 7,
    "start_time": "2022-03-13T14:12:35.697Z"
   },
   {
    "duration": 46,
    "start_time": "2022-03-13T14:12:35.707Z"
   },
   {
    "duration": 4,
    "start_time": "2022-03-13T14:12:35.756Z"
   },
   {
    "duration": 20,
    "start_time": "2022-03-13T14:12:35.764Z"
   },
   {
    "duration": 9,
    "start_time": "2022-03-13T14:12:35.787Z"
   },
   {
    "duration": 58,
    "start_time": "2022-03-13T14:12:35.798Z"
   },
   {
    "duration": 10,
    "start_time": "2022-03-13T14:12:35.858Z"
   },
   {
    "duration": 10,
    "start_time": "2022-03-13T14:12:35.870Z"
   },
   {
    "duration": 14,
    "start_time": "2022-03-13T14:12:35.882Z"
   },
   {
    "duration": 54,
    "start_time": "2022-03-13T14:12:35.899Z"
   },
   {
    "duration": 21,
    "start_time": "2022-03-13T14:12:35.957Z"
   },
   {
    "duration": 18,
    "start_time": "2022-03-13T14:12:35.981Z"
   },
   {
    "duration": 51,
    "start_time": "2022-03-13T14:12:36.002Z"
   },
   {
    "duration": 11,
    "start_time": "2022-03-13T14:12:36.055Z"
   },
   {
    "duration": 24,
    "start_time": "2022-03-13T14:12:36.069Z"
   },
   {
    "duration": 7,
    "start_time": "2022-03-13T14:12:36.096Z"
   },
   {
    "duration": 73,
    "start_time": "2022-03-13T14:12:36.106Z"
   },
   {
    "duration": 16,
    "start_time": "2022-03-13T14:12:36.181Z"
   },
   {
    "duration": 4,
    "start_time": "2022-03-13T14:12:36.203Z"
   },
   {
    "duration": 41,
    "start_time": "2022-03-13T14:12:36.210Z"
   },
   {
    "duration": 33,
    "start_time": "2022-03-13T14:12:36.254Z"
   },
   {
    "duration": 11,
    "start_time": "2022-03-13T14:12:36.290Z"
   },
   {
    "duration": 13,
    "start_time": "2022-03-13T14:12:36.303Z"
   },
   {
    "duration": 108,
    "start_time": "2022-03-13T14:12:36.351Z"
   },
   {
    "duration": 614,
    "start_time": "2022-03-13T14:12:36.553Z"
   },
   {
    "duration": 61763,
    "start_time": "2022-03-13T14:12:37.170Z"
   },
   {
    "duration": 5,
    "start_time": "2022-03-13T14:13:38.936Z"
   },
   {
    "duration": 6,
    "start_time": "2022-03-13T14:13:38.951Z"
   },
   {
    "duration": 14,
    "start_time": "2022-03-13T14:13:38.960Z"
   },
   {
    "duration": 181,
    "start_time": "2022-03-13T14:13:38.976Z"
   },
   {
    "duration": 678,
    "start_time": "2022-03-13T14:13:39.161Z"
   },
   {
    "duration": 88435,
    "start_time": "2022-03-13T14:13:39.850Z"
   },
   {
    "duration": 5,
    "start_time": "2022-03-13T14:15:08.288Z"
   },
   {
    "duration": 17,
    "start_time": "2022-03-13T14:15:08.296Z"
   },
   {
    "duration": 137,
    "start_time": "2022-03-13T14:15:08.316Z"
   },
   {
    "duration": 519,
    "start_time": "2022-03-13T14:15:08.456Z"
   },
   {
    "duration": 52031,
    "start_time": "2022-03-13T14:15:08.978Z"
   },
   {
    "duration": 1017,
    "start_time": "2022-03-13T14:16:01.012Z"
   },
   {
    "duration": 55,
    "start_time": "2022-03-13T14:16:02.032Z"
   },
   {
    "duration": 269,
    "start_time": "2022-03-13T14:16:02.090Z"
   },
   {
    "duration": 279,
    "start_time": "2022-03-13T14:16:02.362Z"
   },
   {
    "duration": 8,
    "start_time": "2022-03-13T14:16:02.652Z"
   },
   {
    "duration": 1471,
    "start_time": "2022-03-13T17:20:59.269Z"
   },
   {
    "duration": 31,
    "start_time": "2022-03-13T17:21:00.743Z"
   },
   {
    "duration": 37,
    "start_time": "2022-03-13T17:21:00.777Z"
   },
   {
    "duration": 11,
    "start_time": "2022-03-13T17:21:00.817Z"
   },
   {
    "duration": 24,
    "start_time": "2022-03-13T17:21:00.830Z"
   },
   {
    "duration": 31,
    "start_time": "2022-03-13T17:21:00.856Z"
   },
   {
    "duration": 20,
    "start_time": "2022-03-13T17:21:00.891Z"
   },
   {
    "duration": 25,
    "start_time": "2022-03-13T17:21:00.914Z"
   },
   {
    "duration": 18,
    "start_time": "2022-03-13T17:21:00.943Z"
   },
   {
    "duration": 50,
    "start_time": "2022-03-13T17:21:00.964Z"
   },
   {
    "duration": 10,
    "start_time": "2022-03-13T17:21:01.017Z"
   },
   {
    "duration": 16,
    "start_time": "2022-03-13T17:21:01.029Z"
   },
   {
    "duration": 26,
    "start_time": "2022-03-13T17:21:01.048Z"
   },
   {
    "duration": 37,
    "start_time": "2022-03-13T17:21:01.076Z"
   },
   {
    "duration": 17,
    "start_time": "2022-03-13T17:21:01.116Z"
   },
   {
    "duration": 13,
    "start_time": "2022-03-13T17:21:01.136Z"
   },
   {
    "duration": 60,
    "start_time": "2022-03-13T17:21:01.151Z"
   },
   {
    "duration": 10,
    "start_time": "2022-03-13T17:21:01.214Z"
   },
   {
    "duration": 16,
    "start_time": "2022-03-13T17:21:01.226Z"
   },
   {
    "duration": 14,
    "start_time": "2022-03-13T17:21:01.244Z"
   },
   {
    "duration": 37,
    "start_time": "2022-03-13T17:21:01.288Z"
   },
   {
    "duration": 14,
    "start_time": "2022-03-13T17:21:01.327Z"
   },
   {
    "duration": 38,
    "start_time": "2022-03-13T17:21:01.343Z"
   },
   {
    "duration": 48,
    "start_time": "2022-03-13T17:21:01.383Z"
   },
   {
    "duration": 33,
    "start_time": "2022-03-13T17:21:05.843Z"
   },
   {
    "duration": 6,
    "start_time": "2022-03-13T17:21:10.655Z"
   },
   {
    "duration": 9,
    "start_time": "2022-03-13T17:21:10.994Z"
   },
   {
    "duration": 13,
    "start_time": "2022-03-13T17:21:11.367Z"
   },
   {
    "duration": 8,
    "start_time": "2022-03-13T17:21:23.402Z"
   },
   {
    "duration": 210,
    "start_time": "2022-03-13T19:06:27.645Z"
   },
   {
    "duration": 1154,
    "start_time": "2022-03-13T19:06:34.256Z"
   },
   {
    "duration": 23,
    "start_time": "2022-03-13T19:06:35.412Z"
   },
   {
    "duration": 492,
    "start_time": "2022-03-13T19:06:35.437Z"
   },
   {
    "duration": 9,
    "start_time": "2022-03-13T19:06:36.392Z"
   },
   {
    "duration": 4,
    "start_time": "2022-03-13T19:06:36.860Z"
   },
   {
    "duration": 5,
    "start_time": "2022-03-13T19:06:37.250Z"
   },
   {
    "duration": 3,
    "start_time": "2022-03-13T19:06:37.755Z"
   },
   {
    "duration": 7,
    "start_time": "2022-03-13T19:06:49.046Z"
   },
   {
    "duration": 7,
    "start_time": "2022-03-13T19:06:49.946Z"
   },
   {
    "duration": 18,
    "start_time": "2022-03-13T19:06:50.820Z"
   },
   {
    "duration": 5,
    "start_time": "2022-03-13T19:06:52.873Z"
   },
   {
    "duration": 7,
    "start_time": "2022-03-13T19:06:55.951Z"
   },
   {
    "duration": 7,
    "start_time": "2022-03-13T19:06:56.958Z"
   },
   {
    "duration": 13,
    "start_time": "2022-03-13T19:06:57.766Z"
   },
   {
    "duration": 13,
    "start_time": "2022-03-13T19:06:58.590Z"
   },
   {
    "duration": 13,
    "start_time": "2022-03-13T19:07:03.624Z"
   },
   {
    "duration": 13,
    "start_time": "2022-03-13T19:07:42.066Z"
   },
   {
    "duration": 7,
    "start_time": "2022-03-13T19:07:42.759Z"
   },
   {
    "duration": 9,
    "start_time": "2022-03-13T19:07:44.139Z"
   },
   {
    "duration": 5,
    "start_time": "2022-03-13T19:07:52.880Z"
   },
   {
    "duration": 23,
    "start_time": "2022-03-13T19:07:53.609Z"
   },
   {
    "duration": 11,
    "start_time": "2022-03-13T19:26:02.511Z"
   },
   {
    "duration": 3,
    "start_time": "2022-03-13T19:26:03.367Z"
   },
   {
    "duration": 393,
    "start_time": "2022-03-13T19:26:03.934Z"
   },
   {
    "duration": 504,
    "start_time": "2022-03-13T19:26:04.677Z"
   },
   {
    "duration": 9,
    "start_time": "2022-03-13T19:26:54.035Z"
   },
   {
    "duration": 8,
    "start_time": "2022-03-13T19:26:54.908Z"
   },
   {
    "duration": 58,
    "start_time": "2022-03-13T19:26:55.718Z"
   },
   {
    "duration": 63,
    "start_time": "2022-03-13T19:45:59.108Z"
   },
   {
    "duration": 336,
    "start_time": "2022-03-13T19:53:29.995Z"
   },
   {
    "duration": 429,
    "start_time": "2022-03-13T19:53:44.225Z"
   },
   {
    "duration": 189,
    "start_time": "2022-03-13T19:56:03.968Z"
   },
   {
    "duration": 48101,
    "start_time": "2022-03-13T19:56:50.937Z"
   },
   {
    "duration": 168,
    "start_time": "2022-03-13T20:31:25.192Z"
   },
   {
    "duration": 4,
    "start_time": "2022-03-13T20:31:56.663Z"
   },
   {
    "duration": 3,
    "start_time": "2022-03-13T20:31:57.064Z"
   },
   {
    "duration": 10,
    "start_time": "2022-03-13T20:31:57.505Z"
   },
   {
    "duration": 44,
    "start_time": "2022-03-13T20:31:59.027Z"
   },
   {
    "duration": 486,
    "start_time": "2022-03-13T20:33:34.485Z"
   },
   {
    "duration": 59470,
    "start_time": "2022-03-13T20:35:08.876Z"
   },
   {
    "duration": 176,
    "start_time": "2022-03-13T20:37:09.277Z"
   },
   {
    "duration": 4,
    "start_time": "2022-03-13T20:37:13.112Z"
   },
   {
    "duration": 10,
    "start_time": "2022-03-13T20:37:13.707Z"
   },
   {
    "duration": 108,
    "start_time": "2022-03-13T20:37:14.262Z"
   },
   {
    "duration": 307,
    "start_time": "2022-03-13T20:38:08.903Z"
   },
   {
    "duration": 34744,
    "start_time": "2022-03-13T20:38:29.427Z"
   },
   {
    "duration": 862,
    "start_time": "2022-03-13T20:39:20.984Z"
   },
   {
    "duration": 981,
    "start_time": "2022-03-13T20:39:39.828Z"
   },
   {
    "duration": 850,
    "start_time": "2022-03-13T20:40:02.268Z"
   },
   {
    "duration": 181,
    "start_time": "2022-03-13T20:42:01.661Z"
   },
   {
    "duration": 67612,
    "start_time": "2022-03-13T20:42:18.941Z"
   },
   {
    "duration": 111505,
    "start_time": "2022-03-13T20:46:28.497Z"
   }
  ],
  "kernelspec": {
   "display_name": "Python 3 (ipykernel)",
   "language": "python",
   "name": "python3"
  },
  "language_info": {
   "codemirror_mode": {
    "name": "ipython",
    "version": 3
   },
   "file_extension": ".py",
   "mimetype": "text/x-python",
   "name": "python",
   "nbconvert_exporter": "python",
   "pygments_lexer": "ipython3",
   "version": "3.9.7"
  },
  "toc": {
   "base_numbering": 1,
   "nav_menu": {},
   "number_sections": true,
   "sideBar": true,
   "skip_h1_title": true,
   "title_cell": "Содержание",
   "title_sidebar": "Contents",
   "toc_cell": true,
   "toc_position": {},
   "toc_section_display": true,
   "toc_window_display": true
  }
 },
 "nbformat": 4,
 "nbformat_minor": 2
}
